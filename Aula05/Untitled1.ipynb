{
 "cells": [
  {
   "cell_type": "code",
   "execution_count": 10,
   "id": "928f098c",
   "metadata": {},
   "outputs": [],
   "source": [
    "dobro = lambda x: x * 2"
   ]
  },
  {
   "cell_type": "code",
   "execution_count": 11,
   "id": "5a0d2068",
   "metadata": {},
   "outputs": [
    {
     "data": {
      "text/plain": [
       "<function __main__.<lambda>(x)>"
      ]
     },
     "execution_count": 11,
     "metadata": {},
     "output_type": "execute_result"
    }
   ],
   "source": [
    "dobro"
   ]
  },
  {
   "cell_type": "code",
   "execution_count": 12,
   "id": "0108bfeb",
   "metadata": {},
   "outputs": [
    {
     "data": {
      "text/plain": [
       "4"
      ]
     },
     "execution_count": 12,
     "metadata": {},
     "output_type": "execute_result"
    }
   ],
   "source": [
    "dobro(2)"
   ]
  },
  {
   "cell_type": "code",
   "execution_count": 13,
   "id": "dfa0d802",
   "metadata": {},
   "outputs": [],
   "source": [
    "resultado = dobro(10)"
   ]
  },
  {
   "cell_type": "code",
   "execution_count": 14,
   "id": "859e54e8",
   "metadata": {},
   "outputs": [
    {
     "data": {
      "text/plain": [
       "20"
      ]
     },
     "execution_count": 14,
     "metadata": {},
     "output_type": "execute_result"
    }
   ],
   "source": [
    "resultado"
   ]
  },
  {
   "cell_type": "code",
   "execution_count": 15,
   "id": "cf27f018",
   "metadata": {},
   "outputs": [],
   "source": [
    "par = lambda x : x%2 == 0"
   ]
  },
  {
   "cell_type": "code",
   "execution_count": 16,
   "id": "9889bf69",
   "metadata": {},
   "outputs": [
    {
     "data": {
      "text/plain": [
       "True"
      ]
     },
     "execution_count": 16,
     "metadata": {},
     "output_type": "execute_result"
    }
   ],
   "source": [
    "par(2)"
   ]
  },
  {
   "cell_type": "code",
   "execution_count": 17,
   "id": "811927d0",
   "metadata": {},
   "outputs": [],
   "source": [
    "area_circunferencia = lambda r : 3.14 * r**2 "
   ]
  },
  {
   "cell_type": "code",
   "execution_count": 18,
   "id": "bf30735c",
   "metadata": {},
   "outputs": [
    {
     "data": {
      "text/plain": [
       "50.24"
      ]
     },
     "execution_count": 18,
     "metadata": {},
     "output_type": "execute_result"
    }
   ],
   "source": [
    "area_circunferencia(4)"
   ]
  },
  {
   "cell_type": "code",
   "execution_count": 19,
   "id": "4db601ba",
   "metadata": {},
   "outputs": [],
   "source": [
    "lista = [5,2,8,1]\n",
    "lista.sort(key=lambda x : x%2)"
   ]
  },
  {
   "cell_type": "code",
   "execution_count": 20,
   "id": "1f92217e",
   "metadata": {},
   "outputs": [
    {
     "data": {
      "text/plain": [
       "[2, 8, 5, 1]"
      ]
     },
     "execution_count": 20,
     "metadata": {},
     "output_type": "execute_result"
    }
   ],
   "source": [
    "lista"
   ]
  },
  {
   "cell_type": "code",
   "execution_count": 21,
   "id": "20a785a3",
   "metadata": {},
   "outputs": [
    {
     "name": "stdout",
     "output_type": "stream",
     "text": [
      "[2, 4, 6, 8, 10, 12, 14, 16, 18, 20]\n"
     ]
    }
   ],
   "source": [
    "lista = [1,2,3,4,5,6,7,8,9,10]\n",
    "lista_dobro = list(map(lambda x : x*2,lista))\n",
    "\n",
    "print(lista_dobro)"
   ]
  },
  {
   "cell_type": "code",
   "execution_count": 22,
   "id": "48c6f0b9",
   "metadata": {},
   "outputs": [],
   "source": [
    "import random\n",
    "lista_dobro = list(map(lambda x: x*2,[random.randint(1,10000) for i in range (1,11)]))"
   ]
  },
  {
   "cell_type": "code",
   "execution_count": 23,
   "id": "2d2115d6",
   "metadata": {},
   "outputs": [
    {
     "data": {
      "text/plain": [
       "[7984, 10350, 5976, 16878, 18082, 3404, 5328, 19842, 7524, 3098]"
      ]
     },
     "execution_count": 23,
     "metadata": {},
     "output_type": "execute_result"
    }
   ],
   "source": [
    "lista_dobro"
   ]
  },
  {
   "cell_type": "code",
   "execution_count": 24,
   "id": "a2f07f73",
   "metadata": {},
   "outputs": [],
   "source": [
    "alunos = {'Joao':[7,4,5],'Maria':[5,8,9],'Leo':[6,7,7],'Pedro':[7,4,10]}"
   ]
  },
  {
   "cell_type": "code",
   "execution_count": 25,
   "id": "571e0cdd",
   "metadata": {},
   "outputs": [],
   "source": [
    "alunos_medias = list(map(lambda notas: round(sum(notas)/len(notas),2),alunos.values()))"
   ]
  },
  {
   "cell_type": "code",
   "execution_count": 26,
   "id": "b1ec6672",
   "metadata": {},
   "outputs": [
    {
     "data": {
      "text/plain": [
       "[5.33, 7.33, 6.67, 7.0]"
      ]
     },
     "execution_count": 26,
     "metadata": {},
     "output_type": "execute_result"
    }
   ],
   "source": [
    "alunos_medias"
   ]
  },
  {
   "cell_type": "code",
   "execution_count": 27,
   "id": "ae606c96",
   "metadata": {},
   "outputs": [],
   "source": [
    "for aluno in alunos:\n",
    "    alunos[aluno] = round(sum(alunos[aluno])/len(alunos[aluno]),2)"
   ]
  },
  {
   "cell_type": "code",
   "execution_count": 28,
   "id": "4820dea1",
   "metadata": {},
   "outputs": [
    {
     "data": {
      "text/plain": [
       "{'Joao': 5.33, 'Maria': 7.33, 'Leo': 6.67, 'Pedro': 7.0}"
      ]
     },
     "execution_count": 28,
     "metadata": {},
     "output_type": "execute_result"
    }
   ],
   "source": [
    "alunos"
   ]
  },
  {
   "cell_type": "code",
   "execution_count": 29,
   "id": "ea726fcd",
   "metadata": {},
   "outputs": [],
   "source": [
    "lista_pares = list(filter(lambda x:x%2 == 0,lista))"
   ]
  },
  {
   "cell_type": "code",
   "execution_count": 30,
   "id": "dd4cc86d",
   "metadata": {},
   "outputs": [
    {
     "data": {
      "text/plain": [
       "[2, 4, 6, 8, 10]"
      ]
     },
     "execution_count": 30,
     "metadata": {},
     "output_type": "execute_result"
    }
   ],
   "source": [
    "lista_pares"
   ]
  },
  {
   "cell_type": "code",
   "execution_count": 33,
   "id": "a9503bf3",
   "metadata": {},
   "outputs": [
    {
     "ename": "AttributeError",
     "evalue": "'str' object has no attribute 'items'",
     "output_type": "error",
     "traceback": [
      "\u001b[1;31m---------------------------------------------------------------------------\u001b[0m",
      "\u001b[1;31mAttributeError\u001b[0m                            Traceback (most recent call last)",
      "Cell \u001b[1;32mIn[33], line 1\u001b[0m\n\u001b[1;32m----> 1\u001b[0m alunos_aprovados \u001b[38;5;241m=\u001b[39m \u001b[38;5;28mdict\u001b[39m(\u001b[38;5;28mfilter\u001b[39m(\u001b[38;5;28;01mlambda\u001b[39;00m notas: \u001b[38;5;28mround\u001b[39m(\u001b[38;5;28msum\u001b[39m(notas[\u001b[38;5;241m1\u001b[39m])\u001b[38;5;241m/\u001b[39m\u001b[38;5;28mlen\u001b[39m(notas[\u001b[38;5;241m1\u001b[39m]),\u001b[38;5;241m2\u001b[39m)\u001b[38;5;241m>\u001b[39m\u001b[38;5;241m=\u001b[39m\u001b[38;5;241m7\u001b[39m,\u001b[43maluno\u001b[49m\u001b[38;5;241;43m.\u001b[39;49m\u001b[43mitems\u001b[49m()))\n",
      "\u001b[1;31mAttributeError\u001b[0m: 'str' object has no attribute 'items'"
     ]
    }
   ],
   "source": [
    "alunos_aprovados = dict(filter(lambda notas: round(sum(notas[1])/len(notas[1]),2)>=7,aluno.items()))"
   ]
  },
  {
   "cell_type": "code",
   "execution_count": null,
   "id": "d316df11",
   "metadata": {},
   "outputs": [],
   "source": []
  }
 ],
 "metadata": {
  "kernelspec": {
   "display_name": "Python 3 (ipykernel)",
   "language": "python",
   "name": "python3"
  },
  "language_info": {
   "codemirror_mode": {
    "name": "ipython",
    "version": 3
   },
   "file_extension": ".py",
   "mimetype": "text/x-python",
   "name": "python",
   "nbconvert_exporter": "python",
   "pygments_lexer": "ipython3",
   "version": "3.11.5"
  }
 },
 "nbformat": 4,
 "nbformat_minor": 5
}
