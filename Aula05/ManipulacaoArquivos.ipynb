{
 "cells": [
  {
   "cell_type": "code",
   "execution_count": 2,
   "id": "1eaa2a5e",
   "metadata": {},
   "outputs": [
    {
     "name": "stdout",
     "output_type": "stream",
     "text": [
      "Overwriting teste.txt\n"
     ]
    }
   ],
   "source": [
    "%%writefile teste.txt\n",
    "\n",
    "print(\"Arquivo Criado\")"
   ]
  },
  {
   "cell_type": "code",
   "execution_count": 3,
   "id": "37b406d0",
   "metadata": {},
   "outputs": [],
   "source": [
    "texto = open('teste.txt','w')\n",
    "texto.write('Oi, tudo bem?')\n",
    "texto.writelines(\"tudo sim\")\n",
    "\n",
    "texto.close()"
   ]
  },
  {
   "cell_type": "code",
   "execution_count": 6,
   "id": "57151f96",
   "metadata": {},
   "outputs": [
    {
     "name": "stdout",
     "output_type": "stream",
     "text": [
      "Oi, tudo bem?tudo sim\n"
     ]
    }
   ],
   "source": [
    "arquivo = open('teste.txt','r')\n",
    "\n",
    "print(arquivo.read())"
   ]
  },
  {
   "cell_type": "code",
   "execution_count": 11,
   "id": "a8619d50",
   "metadata": {},
   "outputs": [
    {
     "name": "stdout",
     "output_type": "stream",
     "text": [
      "['Oi, tudo bem?tudo sim']\n"
     ]
    }
   ],
   "source": [
    "arquivo = open('teste.txt','r')\n",
    "print(arquivo.readlines())"
   ]
  },
  {
   "cell_type": "code",
   "execution_count": 30,
   "id": "ce023e30",
   "metadata": {},
   "outputs": [],
   "source": [
    "with open('dados.txt','w') as file:\n",
    "    file.write(\"\"\"Nome: Ana Beatriz\n",
    "               Idade: 20\n",
    "               Curso: Ciencia da computação\"\"\")"
   ]
  },
  {
   "cell_type": "code",
   "execution_count": 31,
   "id": "9c48232f",
   "metadata": {},
   "outputs": [
    {
     "name": "stdout",
     "output_type": "stream",
     "text": [
      "['Nome:', 'Ana', 'Beatriz']\n",
      "['Idade:', '20']\n",
      "['Curso:', 'Ciencia', 'da', 'computação']\n"
     ]
    }
   ],
   "source": [
    "with open('dados.txt','r') as file:\n",
    "   for linha in file.readlines():  \n",
    "    print(linha.split())"
   ]
  },
  {
   "cell_type": "code",
   "execution_count": 38,
   "id": "3e45cb39",
   "metadata": {},
   "outputs": [
    {
     "data": {
      "text/plain": [
       "{'Nome:': ['Ana'], 'Idade:': ['20'], 'Curso:': ['Ciencia']}"
      ]
     },
     "execution_count": 38,
     "metadata": {},
     "output_type": "execute_result"
    }
   ],
   "source": [
    "dados = {}\n",
    "with open('dados.txt','r') as file:\n",
    "   for linha in file.readlines():  \n",
    "    linha = linha.split()\n",
    "    dados[linha[0]]= [linha[1]] \n",
    "dados"
   ]
  },
  {
   "cell_type": "code",
   "execution_count": null,
   "id": "f142540d",
   "metadata": {},
   "outputs": [],
   "source": []
  },
  {
   "cell_type": "code",
   "execution_count": null,
   "id": "abe4a643",
   "metadata": {},
   "outputs": [],
   "source": []
  }
 ],
 "metadata": {
  "kernelspec": {
   "display_name": "Python 3 (ipykernel)",
   "language": "python",
   "name": "python3"
  },
  "language_info": {
   "codemirror_mode": {
    "name": "ipython",
    "version": 3
   },
   "file_extension": ".py",
   "mimetype": "text/x-python",
   "name": "python",
   "nbconvert_exporter": "python",
   "pygments_lexer": "ipython3",
   "version": "3.11.5"
  }
 },
 "nbformat": 4,
 "nbformat_minor": 5
}
