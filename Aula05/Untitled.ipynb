{
 "cells": [
  {
   "cell_type": "code",
   "execution_count": 2,
   "id": "371774a1",
   "metadata": {},
   "outputs": [],
   "source": [
    "minha_lista3 = list(range(1,101))"
   ]
  },
  {
   "cell_type": "code",
   "execution_count": 3,
   "id": "3c6668ee",
   "metadata": {},
   "outputs": [
    {
     "data": {
      "text/plain": [
       "[1,\n",
       " 2,\n",
       " 3,\n",
       " 4,\n",
       " 5,\n",
       " 6,\n",
       " 7,\n",
       " 8,\n",
       " 9,\n",
       " 10,\n",
       " 11,\n",
       " 12,\n",
       " 13,\n",
       " 14,\n",
       " 15,\n",
       " 16,\n",
       " 17,\n",
       " 18,\n",
       " 19,\n",
       " 20,\n",
       " 21,\n",
       " 22,\n",
       " 23,\n",
       " 24,\n",
       " 25,\n",
       " 26,\n",
       " 27,\n",
       " 28,\n",
       " 29,\n",
       " 30,\n",
       " 31,\n",
       " 32,\n",
       " 33,\n",
       " 34,\n",
       " 35,\n",
       " 36,\n",
       " 37,\n",
       " 38,\n",
       " 39,\n",
       " 40,\n",
       " 41,\n",
       " 42,\n",
       " 43,\n",
       " 44,\n",
       " 45,\n",
       " 46,\n",
       " 47,\n",
       " 48,\n",
       " 49,\n",
       " 50,\n",
       " 51,\n",
       " 52,\n",
       " 53,\n",
       " 54,\n",
       " 55,\n",
       " 56,\n",
       " 57,\n",
       " 58,\n",
       " 59,\n",
       " 60,\n",
       " 61,\n",
       " 62,\n",
       " 63,\n",
       " 64,\n",
       " 65,\n",
       " 66,\n",
       " 67,\n",
       " 68,\n",
       " 69,\n",
       " 70,\n",
       " 71,\n",
       " 72,\n",
       " 73,\n",
       " 74,\n",
       " 75,\n",
       " 76,\n",
       " 77,\n",
       " 78,\n",
       " 79,\n",
       " 80,\n",
       " 81,\n",
       " 82,\n",
       " 83,\n",
       " 84,\n",
       " 85,\n",
       " 86,\n",
       " 87,\n",
       " 88,\n",
       " 89,\n",
       " 90,\n",
       " 91,\n",
       " 92,\n",
       " 93,\n",
       " 94,\n",
       " 95,\n",
       " 96,\n",
       " 97,\n",
       " 98,\n",
       " 99,\n",
       " 100]"
      ]
     },
     "execution_count": 3,
     "metadata": {},
     "output_type": "execute_result"
    }
   ],
   "source": [
    "minha_lista3"
   ]
  },
  {
   "cell_type": "code",
   "execution_count": 9,
   "id": "3a0b0b0d",
   "metadata": {},
   "outputs": [],
   "source": [
    "minha_lista = [1,2,3,4,5,6,7,8,9,10]"
   ]
  },
  {
   "cell_type": "code",
   "execution_count": 10,
   "id": "f93e180b",
   "metadata": {},
   "outputs": [
    {
     "data": {
      "text/plain": [
       "3"
      ]
     },
     "execution_count": 10,
     "metadata": {},
     "output_type": "execute_result"
    }
   ],
   "source": [
    "minha_lista[2]"
   ]
  },
  {
   "cell_type": "code",
   "execution_count": 11,
   "id": "0576696d",
   "metadata": {},
   "outputs": [
    {
     "data": {
      "text/plain": [
       "[1, 2, 3, 4, 5]"
      ]
     },
     "execution_count": 11,
     "metadata": {},
     "output_type": "execute_result"
    }
   ],
   "source": [
    "minha_lista[0:5]"
   ]
  },
  {
   "cell_type": "code",
   "execution_count": 12,
   "id": "d2a0b8ab",
   "metadata": {},
   "outputs": [
    {
     "data": {
      "text/plain": [
       "[3, 5, 7, 9]"
      ]
     },
     "execution_count": 12,
     "metadata": {},
     "output_type": "execute_result"
    }
   ],
   "source": [
    "minha_lista[-8:-1:2]"
   ]
  },
  {
   "cell_type": "code",
   "execution_count": 14,
   "id": "ec5f7d67",
   "metadata": {},
   "outputs": [
    {
     "data": {
      "text/plain": [
       "[10, 9, 8, 7, 6, 5, 4, 3, 2, 1]"
      ]
     },
     "execution_count": 14,
     "metadata": {},
     "output_type": "execute_result"
    }
   ],
   "source": [
    "minha_lista[::-1]"
   ]
  },
  {
   "cell_type": "code",
   "execution_count": null,
   "id": "c3405641",
   "metadata": {},
   "outputs": [],
   "source": []
  },
  {
   "cell_type": "code",
   "execution_count": 86,
   "id": "7075a921",
   "metadata": {},
   "outputs": [],
   "source": [
    "frutas = ['mamão','maçã','uva','kiwi','laranja']"
   ]
  },
  {
   "cell_type": "code",
   "execution_count": 87,
   "id": "8426bfa8",
   "metadata": {},
   "outputs": [],
   "source": [
    "frutas.append('melancia')"
   ]
  },
  {
   "cell_type": "code",
   "execution_count": 88,
   "id": "97d21f44",
   "metadata": {},
   "outputs": [
    {
     "data": {
      "text/plain": [
       "['mamão', 'maçã', 'uva', 'kiwi', 'laranja', 'melancia']"
      ]
     },
     "execution_count": 88,
     "metadata": {},
     "output_type": "execute_result"
    }
   ],
   "source": [
    "frutas"
   ]
  },
  {
   "cell_type": "code",
   "execution_count": 89,
   "id": "33891e20",
   "metadata": {},
   "outputs": [],
   "source": [
    "frutas.insert(2,'banana')"
   ]
  },
  {
   "cell_type": "code",
   "execution_count": 90,
   "id": "f1a60f1a",
   "metadata": {},
   "outputs": [
    {
     "data": {
      "text/plain": [
       "['mamão', 'maçã', 'banana', 'uva', 'kiwi', 'laranja', 'melancia']"
      ]
     },
     "execution_count": 90,
     "metadata": {},
     "output_type": "execute_result"
    }
   ],
   "source": [
    "frutas"
   ]
  },
  {
   "cell_type": "code",
   "execution_count": 91,
   "id": "c80e00cb",
   "metadata": {},
   "outputs": [
    {
     "data": {
      "text/plain": [
       "['banana', 'kiwi', 'laranja', 'mamão', 'maçã', 'melancia', 'uva']"
      ]
     },
     "execution_count": 91,
     "metadata": {},
     "output_type": "execute_result"
    }
   ],
   "source": [
    "sorted(frutas)"
   ]
  },
  {
   "cell_type": "code",
   "execution_count": 92,
   "id": "aa794797",
   "metadata": {},
   "outputs": [
    {
     "data": {
      "text/plain": [
       "['mamão', 'maçã', 'banana', 'uva', 'kiwi', 'laranja', 'melancia']"
      ]
     },
     "execution_count": 92,
     "metadata": {},
     "output_type": "execute_result"
    }
   ],
   "source": [
    "frutas"
   ]
  },
  {
   "cell_type": "code",
   "execution_count": 93,
   "id": "6884e2e8",
   "metadata": {},
   "outputs": [
    {
     "data": {
      "text/plain": [
       "['melancia', 'laranja', 'kiwi', 'uva', 'banana', 'maçã', 'mamão']"
      ]
     },
     "execution_count": 93,
     "metadata": {},
     "output_type": "execute_result"
    }
   ],
   "source": [
    "frutas[::-1]"
   ]
  },
  {
   "cell_type": "code",
   "execution_count": 94,
   "id": "bdbdc979",
   "metadata": {},
   "outputs": [],
   "source": [
    "ultima_fruta = frutas.pop()"
   ]
  },
  {
   "cell_type": "code",
   "execution_count": 95,
   "id": "422d78fc",
   "metadata": {},
   "outputs": [
    {
     "data": {
      "text/plain": [
       "'melancia'"
      ]
     },
     "execution_count": 95,
     "metadata": {},
     "output_type": "execute_result"
    }
   ],
   "source": [
    "ultima_fruta"
   ]
  },
  {
   "cell_type": "code",
   "execution_count": 96,
   "id": "8f9b46dd",
   "metadata": {},
   "outputs": [],
   "source": [
    "frutas.remove(\"kiwi\")"
   ]
  },
  {
   "cell_type": "code",
   "execution_count": 97,
   "id": "0ebc74ad",
   "metadata": {},
   "outputs": [
    {
     "data": {
      "text/plain": [
       "['mamão', 'maçã', 'banana', 'uva', 'laranja']"
      ]
     },
     "execution_count": 97,
     "metadata": {},
     "output_type": "execute_result"
    }
   ],
   "source": [
    "frutas"
   ]
  },
  {
   "cell_type": "code",
   "execution_count": 98,
   "id": "a8d876ef",
   "metadata": {},
   "outputs": [],
   "source": [
    "del frutas[0]"
   ]
  },
  {
   "cell_type": "code",
   "execution_count": 85,
   "id": "eb9263b9",
   "metadata": {},
   "outputs": [
    {
     "data": {
      "text/plain": [
       "['mamão', 'banana', 'uva', 'laranja']"
      ]
     },
     "execution_count": 85,
     "metadata": {},
     "output_type": "execute_result"
    }
   ],
   "source": [
    "frutas"
   ]
  },
  {
   "cell_type": "code",
   "execution_count": 100,
   "id": "5a6f895e",
   "metadata": {},
   "outputs": [
    {
     "data": {
      "text/plain": [
       "2"
      ]
     },
     "execution_count": 100,
     "metadata": {},
     "output_type": "execute_result"
    }
   ],
   "source": [
    "frutas.index('uva')"
   ]
  },
  {
   "cell_type": "code",
   "execution_count": 102,
   "id": "070ef642",
   "metadata": {},
   "outputs": [],
   "source": [
    "frutas.extend(['mexirica','pêra','tomate'])"
   ]
  },
  {
   "cell_type": "code",
   "execution_count": 103,
   "id": "f2fd2d5c",
   "metadata": {},
   "outputs": [
    {
     "data": {
      "text/plain": [
       "['maçã', 'banana', 'uva', 'laranja', 'mexirica', 'pêra', 'tomate']"
      ]
     },
     "execution_count": 103,
     "metadata": {},
     "output_type": "execute_result"
    }
   ],
   "source": [
    "frutas"
   ]
  },
  {
   "cell_type": "code",
   "execution_count": 105,
   "id": "bbee7aa7",
   "metadata": {},
   "outputs": [
    {
     "name": "stdout",
     "output_type": "stream",
     "text": [
      "maçã\n",
      "banana\n",
      "uva\n",
      "laranja\n",
      "mexirica\n",
      "pêra\n",
      "tomate\n"
     ]
    }
   ],
   "source": [
    "for i in frutas:\n",
    "    print(i)"
   ]
  },
  {
   "cell_type": "code",
   "execution_count": 106,
   "id": "72c742c6",
   "metadata": {},
   "outputs": [
    {
     "data": {
      "text/plain": [
       "False"
      ]
     },
     "execution_count": 106,
     "metadata": {},
     "output_type": "execute_result"
    }
   ],
   "source": [
    "bool(\"\")"
   ]
  },
  {
   "cell_type": "code",
   "execution_count": 126,
   "id": "e0f2b291",
   "metadata": {},
   "outputs": [
    {
     "name": "stdout",
     "output_type": "stream",
     "text": [
      "Digite os números:1,2,3,4,5,6,7\n"
     ]
    }
   ],
   "source": [
    "# for i in range(0,5):\n",
    "numeros = input ('Digite os números:').split(',')"
   ]
  },
  {
   "cell_type": "code",
   "execution_count": 129,
   "id": "7f4f8ccc",
   "metadata": {},
   "outputs": [
    {
     "data": {
      "text/plain": [
       "['1', '2', '3', '4', '5', '6', '7']"
      ]
     },
     "execution_count": 129,
     "metadata": {},
     "output_type": "execute_result"
    }
   ],
   "source": [
    "numeros"
   ]
  },
  {
   "cell_type": "code",
   "execution_count": 131,
   "id": "d4e4b367",
   "metadata": {},
   "outputs": [],
   "source": [
    "n = [coisa for coisa in numeros if int(coisa) % 2 ==0] "
   ]
  },
  {
   "cell_type": "code",
   "execution_count": 133,
   "id": "68fd73b1",
   "metadata": {},
   "outputs": [
    {
     "data": {
      "text/plain": [
       "['2', '4', '6']"
      ]
     },
     "execution_count": 133,
     "metadata": {},
     "output_type": "execute_result"
    }
   ],
   "source": [
    "n"
   ]
  },
  {
   "cell_type": "code",
   "execution_count": 149,
   "id": "da15ff54",
   "metadata": {},
   "outputs": [],
   "source": [
    "salarios = [1000,1500,1700,2000,2200]"
   ]
  },
  {
   "cell_type": "code",
   "execution_count": 150,
   "id": "66ef9040",
   "metadata": {},
   "outputs": [
    {
     "data": {
      "text/plain": [
       "[1000, 1500, 1700, 2000, 2200]"
      ]
     },
     "execution_count": 150,
     "metadata": {},
     "output_type": "execute_result"
    }
   ],
   "source": [
    "salarios"
   ]
  },
  {
   "cell_type": "code",
   "execution_count": 151,
   "id": "95b6a664",
   "metadata": {},
   "outputs": [],
   "source": [
    "aumento = [salario *0.1 if salario >1500 else salario * 0.2 for salario in salarios]"
   ]
  },
  {
   "cell_type": "code",
   "execution_count": 152,
   "id": "e21a78cb",
   "metadata": {},
   "outputs": [
    {
     "data": {
      "text/plain": [
       "[200.0, 300.0, 170.0, 200.0, 220.0]"
      ]
     },
     "execution_count": 152,
     "metadata": {},
     "output_type": "execute_result"
    }
   ],
   "source": [
    "aumento"
   ]
  },
  {
   "cell_type": "code",
   "execution_count": 155,
   "id": "ca972247",
   "metadata": {},
   "outputs": [],
   "source": [
    "novos_salarios = []\n",
    "\n",
    "for i in range(len(salarios)):\n",
    "    novos_salarios.append(salarios[i]+aumento[i])"
   ]
  },
  {
   "cell_type": "code",
   "execution_count": 158,
   "id": "8227921c",
   "metadata": {},
   "outputs": [
    {
     "data": {
      "text/plain": [
       "[1200.0, 1800.0, 1870.0, 2200.0, 2420.0]"
      ]
     },
     "execution_count": 158,
     "metadata": {},
     "output_type": "execute_result"
    }
   ],
   "source": [
    "novos_salarios"
   ]
  },
  {
   "cell_type": "code",
   "execution_count": null,
   "id": "243b74a4",
   "metadata": {},
   "outputs": [],
   "source": []
  },
  {
   "cell_type": "code",
   "execution_count": null,
   "id": "8eb4f098",
   "metadata": {},
   "outputs": [],
   "source": []
  },
  {
   "cell_type": "code",
   "execution_count": 162,
   "id": "9a4ce89d",
   "metadata": {},
   "outputs": [],
   "source": [
    "t1 = (1,2,3,4,5,6,7,8,9,10)"
   ]
  },
  {
   "cell_type": "code",
   "execution_count": 163,
   "id": "53f1b1f6",
   "metadata": {},
   "outputs": [
    {
     "data": {
      "text/plain": [
       "2"
      ]
     },
     "execution_count": 163,
     "metadata": {},
     "output_type": "execute_result"
    }
   ],
   "source": [
    "t1.index(3)"
   ]
  },
  {
   "cell_type": "code",
   "execution_count": 164,
   "id": "fbf9f549",
   "metadata": {},
   "outputs": [
    {
     "data": {
      "text/plain": [
       "1"
      ]
     },
     "execution_count": 164,
     "metadata": {},
     "output_type": "execute_result"
    }
   ],
   "source": [
    "t1[0]"
   ]
  },
  {
   "cell_type": "code",
   "execution_count": 165,
   "id": "89de4dc1",
   "metadata": {},
   "outputs": [
    {
     "data": {
      "text/plain": [
       "6"
      ]
     },
     "execution_count": 165,
     "metadata": {},
     "output_type": "execute_result"
    }
   ],
   "source": [
    "t1[5]"
   ]
  },
  {
   "cell_type": "code",
   "execution_count": 166,
   "id": "6f50f075",
   "metadata": {},
   "outputs": [
    {
     "data": {
      "text/plain": [
       "(1, 2, 3, 4, 5, 6)"
      ]
     },
     "execution_count": 166,
     "metadata": {},
     "output_type": "execute_result"
    }
   ],
   "source": [
    "t1[0:6]"
   ]
  },
  {
   "cell_type": "code",
   "execution_count": 167,
   "id": "d59cf4d0",
   "metadata": {},
   "outputs": [],
   "source": [
    "t2 = 10,23,55"
   ]
  },
  {
   "cell_type": "code",
   "execution_count": 168,
   "id": "1e87cfe1",
   "metadata": {},
   "outputs": [
    {
     "data": {
      "text/plain": [
       "tuple"
      ]
     },
     "execution_count": 168,
     "metadata": {},
     "output_type": "execute_result"
    }
   ],
   "source": [
    "type(t2)"
   ]
  },
  {
   "cell_type": "code",
   "execution_count": 169,
   "id": "c0bf4f11",
   "metadata": {},
   "outputs": [],
   "source": [
    "a,b,c = t2"
   ]
  },
  {
   "cell_type": "code",
   "execution_count": 171,
   "id": "f6514d5a",
   "metadata": {},
   "outputs": [
    {
     "data": {
      "text/plain": [
       "10"
      ]
     },
     "execution_count": 171,
     "metadata": {},
     "output_type": "execute_result"
    }
   ],
   "source": [
    "a"
   ]
  },
  {
   "cell_type": "code",
   "execution_count": 172,
   "id": "97298319",
   "metadata": {},
   "outputs": [
    {
     "data": {
      "text/plain": [
       "23"
      ]
     },
     "execution_count": 172,
     "metadata": {},
     "output_type": "execute_result"
    }
   ],
   "source": [
    "b"
   ]
  },
  {
   "cell_type": "code",
   "execution_count": 173,
   "id": "7ac1e9cf",
   "metadata": {},
   "outputs": [
    {
     "data": {
      "text/plain": [
       "55"
      ]
     },
     "execution_count": 173,
     "metadata": {},
     "output_type": "execute_result"
    }
   ],
   "source": [
    "c"
   ]
  },
  {
   "cell_type": "code",
   "execution_count": null,
   "id": "22354979",
   "metadata": {},
   "outputs": [],
   "source": []
  },
  {
   "cell_type": "code",
   "execution_count": null,
   "id": "e03adf88",
   "metadata": {},
   "outputs": [],
   "source": []
  },
  {
   "cell_type": "code",
   "execution_count": null,
   "id": "4a5638df",
   "metadata": {},
   "outputs": [],
   "source": []
  },
  {
   "cell_type": "code",
   "execution_count": 174,
   "id": "307b3a09",
   "metadata": {},
   "outputs": [],
   "source": [
    "d1 = dict()"
   ]
  },
  {
   "cell_type": "code",
   "execution_count": 176,
   "id": "efb77067",
   "metadata": {},
   "outputs": [
    {
     "data": {
      "text/plain": [
       "{}"
      ]
     },
     "execution_count": 176,
     "metadata": {},
     "output_type": "execute_result"
    }
   ],
   "source": [
    "d1"
   ]
  },
  {
   "cell_type": "code",
   "execution_count": 178,
   "id": "1d3e2234",
   "metadata": {},
   "outputs": [
    {
     "data": {
      "text/plain": [
       "dict"
      ]
     },
     "execution_count": 178,
     "metadata": {},
     "output_type": "execute_result"
    }
   ],
   "source": [
    "type(d1)"
   ]
  },
  {
   "cell_type": "code",
   "execution_count": 183,
   "id": "9ea25760",
   "metadata": {},
   "outputs": [],
   "source": [
    "notas = {'Mat':10,'Geo':7,'Hist':8}"
   ]
  },
  {
   "cell_type": "code",
   "execution_count": 184,
   "id": "e22d4ed7",
   "metadata": {},
   "outputs": [
    {
     "data": {
      "text/plain": [
       "10"
      ]
     },
     "execution_count": 184,
     "metadata": {},
     "output_type": "execute_result"
    }
   ],
   "source": [
    "notas['Mat']"
   ]
  },
  {
   "cell_type": "code",
   "execution_count": 185,
   "id": "6cafa57e",
   "metadata": {},
   "outputs": [
    {
     "name": "stdout",
     "output_type": "stream",
     "text": [
      "('Mat', 10)\n",
      "('Geo', 7)\n",
      "('Hist', 8)\n"
     ]
    }
   ],
   "source": [
    "for item in notas.items():\n",
    "    print(item)"
   ]
  },
  {
   "cell_type": "code",
   "execution_count": 188,
   "id": "190f4167",
   "metadata": {},
   "outputs": [
    {
     "name": "stdout",
     "output_type": "stream",
     "text": [
      "Mat 10\n",
      "Geo 7\n",
      "Hist 8\n"
     ]
    }
   ],
   "source": [
    "for chave, valor in notas.items():\n",
    "    print(chave, valor)"
   ]
  },
  {
   "cell_type": "code",
   "execution_count": 189,
   "id": "b61d2967",
   "metadata": {},
   "outputs": [],
   "source": [
    "notas['Geo']= 8"
   ]
  },
  {
   "cell_type": "code",
   "execution_count": 190,
   "id": "92f91841",
   "metadata": {},
   "outputs": [
    {
     "data": {
      "text/plain": [
       "{'Mat': 10, 'Geo': 8, 'Hist': 8}"
      ]
     },
     "execution_count": 190,
     "metadata": {},
     "output_type": "execute_result"
    }
   ],
   "source": [
    "notas"
   ]
  },
  {
   "cell_type": "code",
   "execution_count": 201,
   "id": "81f9ad3b",
   "metadata": {},
   "outputs": [],
   "source": [
    "a = [1,2,3,4]\n",
    "b = a.copy()"
   ]
  },
  {
   "cell_type": "code",
   "execution_count": 202,
   "id": "42c170f0",
   "metadata": {},
   "outputs": [],
   "source": [
    "b.append(5)"
   ]
  },
  {
   "cell_type": "code",
   "execution_count": 203,
   "id": "ecc8af18",
   "metadata": {},
   "outputs": [
    {
     "data": {
      "text/plain": [
       "[1, 2, 3, 4, 5]"
      ]
     },
     "execution_count": 203,
     "metadata": {},
     "output_type": "execute_result"
    }
   ],
   "source": [
    "b"
   ]
  },
  {
   "cell_type": "code",
   "execution_count": 204,
   "id": "8e6ec131",
   "metadata": {},
   "outputs": [
    {
     "data": {
      "text/plain": [
       "[1, 2, 3, 4]"
      ]
     },
     "execution_count": 204,
     "metadata": {},
     "output_type": "execute_result"
    }
   ],
   "source": [
    "a"
   ]
  },
  {
   "cell_type": "code",
   "execution_count": 205,
   "id": "d44d45f0",
   "metadata": {},
   "outputs": [],
   "source": [
    "def minha_funcao():\n",
    "    print('Minha primeira função')\n"
   ]
  },
  {
   "cell_type": "code",
   "execution_count": 206,
   "id": "5d383b93",
   "metadata": {},
   "outputs": [
    {
     "name": "stdout",
     "output_type": "stream",
     "text": [
      "Minha primeira função\n"
     ]
    }
   ],
   "source": [
    "minha_funcao()"
   ]
  },
  {
   "cell_type": "code",
   "execution_count": 211,
   "id": "94910959",
   "metadata": {},
   "outputs": [
    {
     "name": "stdout",
     "output_type": "stream",
     "text": [
      "oi\n"
     ]
    }
   ],
   "source": [
    "a = print(\"oi\")"
   ]
  },
  {
   "cell_type": "code",
   "execution_count": 220,
   "id": "b141f12c",
   "metadata": {},
   "outputs": [],
   "source": [
    "a = 10\n",
    "b = 2\n",
    "def soma():\n",
    "    \n",
    "    return a + b"
   ]
  },
  {
   "cell_type": "code",
   "execution_count": 221,
   "id": "15497167",
   "metadata": {},
   "outputs": [],
   "source": [
    "res = soma()"
   ]
  },
  {
   "cell_type": "code",
   "execution_count": 222,
   "id": "83e83cff",
   "metadata": {},
   "outputs": [
    {
     "data": {
      "text/plain": [
       "12"
      ]
     },
     "execution_count": 222,
     "metadata": {},
     "output_type": "execute_result"
    }
   ],
   "source": [
    "res"
   ]
  },
  {
   "cell_type": "code",
   "execution_count": null,
   "id": "2cfa2d16",
   "metadata": {},
   "outputs": [],
   "source": []
  },
  {
   "cell_type": "code",
   "execution_count": null,
   "id": "3eea2c6c",
   "metadata": {},
   "outputs": [],
   "source": []
  }
 ],
 "metadata": {
  "kernelspec": {
   "display_name": "Python 3 (ipykernel)",
   "language": "python",
   "name": "python3"
  },
  "language_info": {
   "codemirror_mode": {
    "name": "ipython",
    "version": 3
   },
   "file_extension": ".py",
   "mimetype": "text/x-python",
   "name": "python",
   "nbconvert_exporter": "python",
   "pygments_lexer": "ipython3",
   "version": "3.11.4"
  }
 },
 "nbformat": 4,
 "nbformat_minor": 5
}
