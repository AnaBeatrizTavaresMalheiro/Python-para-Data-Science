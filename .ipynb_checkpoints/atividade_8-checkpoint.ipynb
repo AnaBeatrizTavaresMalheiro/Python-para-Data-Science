{
 "cells": [
  {
   "cell_type": "markdown",
   "id": "b0e010a8-e6c7-4177-93c5-2d3d170dca54",
   "metadata": {},
   "source": [
    "# Exercício 1"
   ]
  },
  {
   "cell_type": "markdown",
   "id": "dca1d443-f905-4f8d-a2c2-4cd08aa94266",
   "metadata": {},
   "source": [
    "## Crie uma lista com os nomes de 5 frutas. Em seguida:\n",
    "### - Imprima a primeira e a última fruta da lista.\n",
    "### - Adicione 3 novas frutas à lista.\n",
    "### - Remova a segunda fruta da lista.\n",
    "### - Ordene a lista em ordem alfabética.\n",
    "### - Conte quantas vezes a fruta \"banana\" aparece na lista."
   ]
  },
  {
   "cell_type": "code",
   "execution_count": 78,
   "id": "fc7451ad-00c2-47bc-874f-e0e956cea612",
   "metadata": {},
   "outputs": [],
   "source": [
    "frutas = [\"Morango\",\"Banana\",\"Abacate\"]"
   ]
  },
  {
   "cell_type": "code",
   "execution_count": 79,
   "id": "0e6408bf",
   "metadata": {},
   "outputs": [
    {
     "data": {
      "text/plain": [
       "'Morango'"
      ]
     },
     "execution_count": 79,
     "metadata": {},
     "output_type": "execute_result"
    }
   ],
   "source": [
    "frutas[0]"
   ]
  },
  {
   "cell_type": "code",
   "execution_count": 80,
   "id": "d891f36e",
   "metadata": {},
   "outputs": [
    {
     "data": {
      "text/plain": [
       "'Abacate'"
      ]
     },
     "execution_count": 80,
     "metadata": {},
     "output_type": "execute_result"
    }
   ],
   "source": [
    "frutas[-1]"
   ]
  },
  {
   "cell_type": "code",
   "execution_count": 81,
   "id": "20f5ec7e",
   "metadata": {},
   "outputs": [
    {
     "data": {
      "text/plain": [
       "'Banana'"
      ]
     },
     "execution_count": 81,
     "metadata": {},
     "output_type": "execute_result"
    }
   ],
   "source": [
    "frutas.pop(1)"
   ]
  },
  {
   "cell_type": "code",
   "execution_count": 82,
   "id": "33767623",
   "metadata": {},
   "outputs": [
    {
     "data": {
      "text/plain": [
       "['Morango', 'Abacate']"
      ]
     },
     "execution_count": 82,
     "metadata": {},
     "output_type": "execute_result"
    }
   ],
   "source": [
    "frutas"
   ]
  },
  {
   "cell_type": "code",
   "execution_count": 83,
   "id": "9d65f540",
   "metadata": {},
   "outputs": [
    {
     "data": {
      "text/plain": [
       "['Abacate', 'Morango']"
      ]
     },
     "execution_count": 83,
     "metadata": {},
     "output_type": "execute_result"
    }
   ],
   "source": [
    "frutas.sort()\n",
    "frutas"
   ]
  },
  {
   "cell_type": "code",
   "execution_count": 84,
   "id": "16933c4d",
   "metadata": {},
   "outputs": [
    {
     "data": {
      "text/plain": [
       "0"
      ]
     },
     "execution_count": 84,
     "metadata": {},
     "output_type": "execute_result"
    }
   ],
   "source": [
    "frutas.count(\"Banana\")"
   ]
  },
  {
   "cell_type": "markdown",
   "id": "fc30dda1-10d3-4b33-8f7e-4c06eea02b53",
   "metadata": {},
   "source": [
    "# Exercício 2"
   ]
  },
  {
   "cell_type": "markdown",
   "id": "f3cb2cee-34eb-4b0c-a071-34c06c7c6357",
   "metadata": {},
   "source": [
    "## Crie uma tupla com os seguintes elementos: seu nome, sua idade e sua cidade natal. Em seguida:\n",
    "### - Imprima cada elemento da tupla em uma linha separada.\n",
    "### - Tente modificar o primeiro elemento da tupla e observe o que acontece. Explique o motivo.\n",
    "### - Crie uma nova tupla concatenando a tupla original com outra tupla contendo seus hobbies."
   ]
  },
  {
   "cell_type": "code",
   "execution_count": 66,
   "id": "de0a4e3c-1225-49b0-a06a-c607599b9a7a",
   "metadata": {},
   "outputs": [],
   "source": [
    "minhasInformacoes = (\"Ana Beatriz\",\"20\",\"São Bernardo do Campo\")"
   ]
  },
  {
   "cell_type": "code",
   "execution_count": 68,
   "id": "4154f14a",
   "metadata": {},
   "outputs": [
    {
     "data": {
      "text/plain": [
       "'Ana Beatriz'"
      ]
     },
     "execution_count": 68,
     "metadata": {},
     "output_type": "execute_result"
    }
   ],
   "source": [
    "minhasInformacoes[0]"
   ]
  },
  {
   "cell_type": "code",
   "execution_count": 70,
   "id": "8e1f84e8",
   "metadata": {},
   "outputs": [
    {
     "data": {
      "text/plain": [
       "'20'"
      ]
     },
     "execution_count": 70,
     "metadata": {},
     "output_type": "execute_result"
    }
   ],
   "source": [
    "minhasInformacoes[1]"
   ]
  },
  {
   "cell_type": "code",
   "execution_count": 71,
   "id": "58c323f1",
   "metadata": {},
   "outputs": [
    {
     "data": {
      "text/plain": [
       "'São Bernardo do Campo'"
      ]
     },
     "execution_count": 71,
     "metadata": {},
     "output_type": "execute_result"
    }
   ],
   "source": [
    "minhasInformacoes[2]"
   ]
  },
  {
   "cell_type": "code",
   "execution_count": 88,
   "id": "f0e0f063",
   "metadata": {},
   "outputs": [
    {
     "ename": "TypeError",
     "evalue": "'tuple' object does not support item assignment",
     "output_type": "error",
     "traceback": [
      "\u001b[1;31m---------------------------------------------------------------------------\u001b[0m",
      "\u001b[1;31mTypeError\u001b[0m                                 Traceback (most recent call last)",
      "Cell \u001b[1;32mIn[88], line 1\u001b[0m\n\u001b[1;32m----> 1\u001b[0m minhasInformacoes[\u001b[38;5;241m1\u001b[39m] \u001b[38;5;241m=\u001b[39m \u001b[38;5;124m\"\u001b[39m\u001b[38;5;124m19\u001b[39m\u001b[38;5;124m\"\u001b[39m\n",
      "\u001b[1;31mTypeError\u001b[0m: 'tuple' object does not support item assignment"
     ]
    }
   ],
   "source": [
    "minhasInformacoes[1] = \"19\" #Tuplas são estruturas que não permitem que seus valores sejam modificados"
   ]
  },
  {
   "cell_type": "code",
   "execution_count": 90,
   "id": "f4c7fb7b",
   "metadata": {},
   "outputs": [],
   "source": [
    "meusHobbies = (\"Nadar\",\"Ler\",\"Assistir Filme\")"
   ]
  },
  {
   "cell_type": "code",
   "execution_count": 91,
   "id": "591082ac",
   "metadata": {},
   "outputs": [],
   "source": [
    "todasInformacoes = minhasInformacoes + meusHobbies"
   ]
  },
  {
   "cell_type": "code",
   "execution_count": 92,
   "id": "07025dae",
   "metadata": {},
   "outputs": [
    {
     "data": {
      "text/plain": [
       "('Ana Beatriz',\n",
       " '20',\n",
       " 'São Bernardo do Campo',\n",
       " 'Nadar',\n",
       " 'Ler',\n",
       " 'Assistir Filme')"
      ]
     },
     "execution_count": 92,
     "metadata": {},
     "output_type": "execute_result"
    }
   ],
   "source": [
    "todasInformacoes"
   ]
  },
  {
   "cell_type": "markdown",
   "id": "aee1804e-2d47-47ff-9a65-dfef5b40f68e",
   "metadata": {},
   "source": [
    "# Exercício 3"
   ]
  },
  {
   "cell_type": "markdown",
   "id": "f02aa19b-51b8-4dfb-8a6f-6a1b04c671f1",
   "metadata": {},
   "source": [
    "## Crie um dicionário que represente um contato telefônico. As chaves serão o nome e os valores serão os números de telefone (pode ser mais de um número por pessoa). Em seguida:\n",
    "## - Adicione um novo contato ao dicionário.\n",
    "## - Remova um contato existente.\n",
    "## - Modifique o número de telefone de um contato.\n",
    "## - Imprima todos os nomes dos contatos."
   ]
  },
  {
   "cell_type": "code",
   "execution_count": null,
   "id": "7d99f80c-73a3-45db-bc05-f63664576cf1",
   "metadata": {},
   "outputs": [
    {
     "name": "stdout",
     "output_type": "stream",
     "text": [
      "Menu \n",
      "\n",
      "                a)Adicionar Contato\n",
      "                b)Remover Contato\n",
      "                c)Modificar Contato\n",
      "                d)Imprimir Contatos\n",
      "                s)Sair\n",
      "Digite a opção desejada:a\n",
      "Digite o nome da pessoa que deseja adicionar:Ana\n",
      "Digite o número da pessoa que deseja adicionar:\n",
      "1234\n",
      "Menu \n",
      "\n",
      "                a)Adicionar Contato\n",
      "                b)Remover Contato\n",
      "                c)Modificar Contato\n",
      "                d)Imprimir Contatos\n",
      "                s)Sair\n",
      "Digite a opção desejada:c\n",
      "\n",
      " Seus Contatos: \n",
      " ANA:1234\n",
      "\n",
      "\n",
      "Digite o nome da pessoa que deseja modificar:11 992745787\n",
      "Não foi possível encontrar esse contato\n",
      "Menu \n",
      "\n",
      "                a)Adicionar Contato\n",
      "                b)Remover Contato\n",
      "                c)Modificar Contato\n",
      "                d)Imprimir Contatos\n",
      "                s)Sair\n",
      "Digite a opção desejada:b\n",
      "\n",
      " Seus Contatos: \n",
      " ANA:1234\n",
      "\n",
      "\n",
      "Digite o nome da pessoa que deseja remover:d\n",
      "Não foi possível encontrar esse contato\n",
      "Menu \n",
      "\n",
      "                a)Adicionar Contato\n",
      "                b)Remover Contato\n",
      "                c)Modificar Contato\n",
      "                d)Imprimir Contatos\n",
      "                s)Sair\n",
      "Digite a opção desejada:d\n",
      "\n",
      " Seus Contatos: \n",
      " ANA:1234\n",
      "\n",
      "Menu \n",
      "\n",
      "                a)Adicionar Contato\n",
      "                b)Remover Contato\n",
      "                c)Modificar Contato\n",
      "                d)Imprimir Contatos\n",
      "                s)Sair\n",
      "Digite a opção desejada:c\n",
      "\n",
      " Seus Contatos: \n",
      " ANA:1234\n",
      "\n",
      "\n",
      "Digite o nome da pessoa que deseja modificar:ana\n",
      "\n",
      "Digite o novo número:11992745787\n",
      "Menu \n",
      "\n",
      "                a)Adicionar Contato\n",
      "                b)Remover Contato\n",
      "                c)Modificar Contato\n",
      "                d)Imprimir Contatos\n",
      "                s)Sair\n",
      "Digite a opção desejada:d\n",
      "\n",
      " Seus Contatos: \n",
      " ANA:11992745787\n",
      "\n",
      "Menu \n",
      "\n",
      "                a)Adicionar Contato\n",
      "                b)Remover Contato\n",
      "                c)Modificar Contato\n",
      "                d)Imprimir Contatos\n",
      "                s)Sair\n",
      "Digite a opção desejada:b\n",
      "\n",
      " Seus Contatos: \n",
      " ANA:11992745787\n",
      "\n",
      "\n",
      "Digite o nome da pessoa que deseja remover:ana\n",
      "Menu \n",
      "\n",
      "                a)Adicionar Contato\n",
      "                b)Remover Contato\n",
      "                c)Modificar Contato\n",
      "                d)Imprimir Contatos\n",
      "                s)Sair\n",
      "Digite a opção desejada:d\n",
      "Menu \n",
      "\n",
      "                a)Adicionar Contato\n",
      "                b)Remover Contato\n",
      "                c)Modificar Contato\n",
      "                d)Imprimir Contatos\n",
      "                s)Sair\n"
     ]
    }
   ],
   "source": [
    "lista_telefonica = {}\n",
    "\n",
    "\n",
    "def adicionarContato(lista_telefonica):\n",
    "    \n",
    "    nome = input(\"Digite o nome da pessoa que deseja adicionar:\").upper()\n",
    "    if nome:\n",
    "        num_telefone = input(\"Digite o número da pessoa que deseja adicionar:\\n\")\n",
    "        lista_telefonica[nome] = num_telefone\n",
    "        return\n",
    "    else:\n",
    "        print(\"Valor Inválido :(\")\n",
    "\n",
    "\n",
    "def imprimirContato(lista_telefonica):\n",
    "    for chave,valor in lista_telefonica.items():\n",
    "        print(f'\\n Seus Contatos: \\n {chave}:{valor}\\n')\n",
    "    \n",
    "def removerContato(lista_telefonica):\n",
    "    \n",
    "    imprimirContato(lista_telefonica)\n",
    "    \n",
    "    nome = input(\"\\nDigite o nome da pessoa que deseja remover:\").upper()  \n",
    "    if nome in lista_telefonica:\n",
    "        lista_telefonica.pop(nome)\n",
    "    else:\n",
    "        print(\"Não foi possível encontrar esse contato\")\n",
    "\n",
    "def modificarContato(lista_telefonica):\n",
    "    \n",
    "    imprimirContato(lista_telefonica)\n",
    "    \n",
    "    nome = input(\"\\nDigite o nome da pessoa que deseja modificar:\").upper()  \n",
    "    if nome in lista_telefonica:\n",
    "        num_telefone = input(\"\\nDigite o novo número:\")\n",
    "        lista_telefonica[nome]=num_telefone\n",
    "    else:\n",
    "        print(\"Não foi possível encontrar esse contato\") \n",
    "\n",
    "def main(lista_telefonica):\n",
    "    while True:\n",
    "        print(\"\"\"Menu \\n\n",
    "                a)Adicionar Contato\n",
    "                b)Remover Contato\n",
    "                c)Modificar Contato\n",
    "                d)Imprimir Contatos\n",
    "                s)Sair\"\"\")\n",
    "        escolha = input(\"Digite a opção desejada:\").upper()\n",
    "        \n",
    "        if escolha == \"A\":\n",
    "            adicionarContato(lista_telefonica)\n",
    "        \n",
    "        elif escolha == \"B\":\n",
    "            removerContato(lista_telefonica)\n",
    "        \n",
    "        elif escolha == \"C\":\n",
    "            modificarContato(lista_telefonica)\n",
    "        \n",
    "        elif escolha == \"D\":\n",
    "            imprimirContato(lista_telefonica)\n",
    "            \n",
    "        elif escolha == \"S\":\n",
    "            print(\"Até Logo :)\")\n",
    "            break\n",
    "            \n",
    "        else:\n",
    "            print(\"Opção não encontrada!\")\n",
    "\n",
    "main(lista_telefonica)"
   ]
  },
  {
   "cell_type": "markdown",
   "id": "11b037eb-33ba-409c-875c-30d22a648a1d",
   "metadata": {},
   "source": [
    "# Exercício 4"
   ]
  },
  {
   "cell_type": "markdown",
   "id": "ca3e921e-3971-4dc4-9ea3-1fcc801104b6",
   "metadata": {},
   "source": [
    "## Crie um programa que simule um cadastro de produtos de uma loja. Cada produto terá um nome, preço e quantidade em estoque. Utilize um dicionário para armazenar os produtos. O programa deve permitir:\n",
    "### - Cadastrar novos produtos.\n",
    "### - Consultar informações de um produto específico.\n",
    "### - Alterar o preço de um produto.\n",
    "### - Remover um produto do cadastro."
   ]
  },
  {
   "cell_type": "code",
   "execution_count": 128,
   "id": "01579f85-dc33-4658-afc4-a3077fa902eb",
   "metadata": {},
   "outputs": [
    {
     "name": "stdout",
     "output_type": "stream",
     "text": [
      "Menu \n",
      "\n",
      "                a)Cadastrar Novo Produto\n",
      "                b)Consultar Produto\n",
      "                c)Modificar Preço\n",
      "                d)Remover Produto\n",
      "                s)Sair\n",
      "Digite a opção desejada:a\n",
      "Digite o nome do produto que deseja adicionar:banana\n",
      "Digite o preço do produto que deseja adicionar:\n",
      "a\n",
      "Digite a quantidade do produto em estoque:\n",
      "a\n",
      "Menu \n",
      "\n",
      "                a)Cadastrar Novo Produto\n",
      "                b)Consultar Produto\n",
      "                c)Modificar Preço\n",
      "                d)Remover Produto\n",
      "                s)Sair\n",
      "Digite a opção desejada:d\n",
      "\n",
      "Estoque: \n",
      "Nome:BANANA\n",
      "Valor:a\n",
      "Qtd:a\n",
      "\n",
      "\n",
      "Digite o nome do produto que deseja remover:banana\n",
      "Menu \n",
      "\n",
      "                a)Cadastrar Novo Produto\n",
      "                b)Consultar Produto\n",
      "                c)Modificar Preço\n",
      "                d)Remover Produto\n",
      "                s)Sair\n",
      "Digite a opção desejada:b\n",
      "Digite o nome do produto que deseja consultar:a\n",
      "Não foi possível encontrar esse Produto\n",
      "Menu \n",
      "\n",
      "                a)Cadastrar Novo Produto\n",
      "                b)Consultar Produto\n",
      "                c)Modificar Preço\n",
      "                d)Remover Produto\n",
      "                s)Sair\n",
      "Digite a opção desejada:s\n",
      "Até Logo :)\n"
     ]
    }
   ],
   "source": [
    "lista_produtos = {}\n",
    "\n",
    "\n",
    "def adicionarProduto(lista_produtos):\n",
    "    \n",
    "    nome_produto = input(\"Digite o nome do produto que deseja adicionar:\").upper()\n",
    "    if nome_produto:\n",
    "        preco_produto = input(\"Digite o preço do produto que deseja adicionar:\\n\")\n",
    "        qtd_produto = input(\"Digite a quantidade do produto em estoque:\\n\")\n",
    "        lista_produtos[nome_produto] = [preco_produto,qtd_produto]\n",
    "        return\n",
    "    else:\n",
    "        print(\"Valor Inválido :(\")\n",
    "\n",
    "def consultarProduto(lista_produtos):\n",
    "    nome_produto = input(\"Digite o nome do produto que deseja consultar:\").upper()\n",
    "    if nome_produto in lista_produtos:\n",
    "        print(f'\\nInformações do Produto:\\nNome:{nome_produto}\\nPreço:{lista_produtos[nome_produto][0]}\\nQtd:{lista_produtos[nome_produto][1]}')\n",
    "    else:\n",
    "        print(\"Não foi possível encontrar esse Produto\")\n",
    "\n",
    "def imprimirProduto(lista_produtos):\n",
    "    for chave,valores in lista_produtos.items():\n",
    "        print(f'\\nEstoque: \\nNome:{chave}\\nValor:{valores[0]}\\nQtd:{valores[1]}\\n')\n",
    "    \n",
    "def removerProduto(lista_produtos):\n",
    "    \n",
    "    imprimirProduto(lista_produtos)\n",
    "    \n",
    "    nome_produto = input(\"\\nDigite o nome do produto que deseja remover:\").upper()  \n",
    "    if nome_produto in lista_produtos:\n",
    "        lista_produtos.pop(nome_produto)\n",
    "    else:\n",
    "        print(\"Não foi possível encontrar esse Produto\")\n",
    "\n",
    "def modificarProduto(lista_produtos):\n",
    "    \n",
    "    imprimirProduto(lista_produtos)\n",
    "    \n",
    "    nome_produto = input(\"\\nDigite o nome do produto que deseja modificar:\").upper()  \n",
    "    if nome_produto in lista_produtos:\n",
    "        preco_produto = input(\"\\nDigite o novo preco do Produto:\")\n",
    "        lista_produtos[nome_produto][0]=preco_produto\n",
    "    else:\n",
    "        print(\"Não foi possível encontrar esse contato\") \n",
    "\n",
    "def main(lista_produtos):\n",
    "    while True:\n",
    "        print(\"\"\"Menu \\n\n",
    "                a)Cadastrar Novo Produto\n",
    "                b)Consultar Produto\n",
    "                c)Modificar Preço\n",
    "                d)Remover Produto\n",
    "                s)Sair\"\"\")\n",
    "        escolha = input(\"Digite a opção desejada:\").upper()\n",
    "        \n",
    "        if escolha == \"A\":\n",
    "            adicionarProduto(lista_produtos)\n",
    "        \n",
    "        elif escolha == \"B\":\n",
    "            consultarProduto(lista_produtos)\n",
    "        \n",
    "        elif escolha == \"C\":\n",
    "            modificarProduto(lista_produtos)\n",
    "        \n",
    "        elif escolha == \"D\":\n",
    "            removerProduto(lista_produtos)\n",
    "            \n",
    "        elif escolha == \"S\":\n",
    "            print(\"Até Logo :)\")\n",
    "            break\n",
    "            \n",
    "        else:\n",
    "            print(\"Opção não encontrada!\")\n",
    "\n",
    "main(lista_produtos)"
   ]
  },
  {
   "cell_type": "markdown",
   "id": "b352bd68-3ccf-43ef-8fa4-13b584984c90",
   "metadata": {},
   "source": [
    "# Exercício 5"
   ]
  },
  {
   "cell_type": "markdown",
   "id": "93e8d280-3a46-4f55-855b-50e19608a053",
   "metadata": {},
   "source": [
    "## Crie uma lista de dicionários para representar um conjunto de alunos. Cada dicionário deve conter as seguintes informações: nome, idade, notas (uma lista com as notas de todas as provas). Em seguida:\n",
    "### - Calcule a média de cada aluno.\n",
    "### - Encontre o aluno com a maior média.\n",
    "### - Ordene os alunos por idade.\n",
    "### - Crie uma nova lista contendo apenas os nomes dos alunos com média acima de 7."
   ]
  },
  {
   "cell_type": "code",
   "execution_count": 134,
   "id": "2d03e213-4e28-4f83-84cf-8daaa5c19704",
   "metadata": {},
   "outputs": [
    {
     "name": "stdout",
     "output_type": "stream",
     "text": [
      "Média de cada aluno: {'Alice': 7.0, 'Bia': 9.0, 'Pedro': 6.0, 'Joao': 8.0}\n",
      "Aluno com a maior média: Bia com média 9.0\n",
      "Alunos ordenados por idade: ['Pedro', 'Alice', 'Joao', 'Bia']\n",
      "Alunos com média acima de 7: ['Bia', 'Joao']\n"
     ]
    }
   ],
   "source": [
    "alunos = [\n",
    "    {'nome': 'Alice', 'idade': 20, 'notas': [7, 8, 6]},\n",
    "    {'nome': 'Bia', 'idade': 22, 'notas': [9, 8, 10]},\n",
    "    {'nome': 'Pedro', 'idade': 19, 'notas': [6, 5, 7]},\n",
    "    {'nome': 'Joao', 'idade': 21, 'notas': [8, 7, 9]}\n",
    "]\n",
    "\n",
    "for aluno in alunos:\n",
    "    aluno['media'] = sum(aluno['notas']) / len(aluno['notas'])\n",
    "\n",
    "aluno_maior_media = max(alunos, key=lambda x: x['media'])\n",
    "\n",
    "\n",
    "alunos_ordenados = sorted(alunos, key=lambda x: x['idade'])\n",
    "\n",
    "notas_acima_sete = [aluno['nome'] for aluno in alunos if aluno['media'] > 7]\n",
    "\n",
    "print(\"Média de cada aluno:\", {aluno['nome']: aluno['media'] for aluno in alunos})\n",
    "print(\"Aluno com a maior média:\", aluno_maior_media['nome'], \"com média\", aluno_maior_media['media'])\n",
    "print(\"Alunos ordenados por idade:\", [aluno['nome'] for aluno in alunos_ordenados])\n",
    "print(\"Alunos com média acima de 7:\", notas_acima_sete)\n"
   ]
  }
 ],
 "metadata": {
  "kernelspec": {
   "display_name": "Python 3 (ipykernel)",
   "language": "python",
   "name": "python3"
  },
  "language_info": {
   "codemirror_mode": {
    "name": "ipython",
    "version": 3
   },
   "file_extension": ".py",
   "mimetype": "text/x-python",
   "name": "python",
   "nbconvert_exporter": "python",
   "pygments_lexer": "ipython3",
   "version": "3.11.4"
  }
 },
 "nbformat": 4,
 "nbformat_minor": 5
}
