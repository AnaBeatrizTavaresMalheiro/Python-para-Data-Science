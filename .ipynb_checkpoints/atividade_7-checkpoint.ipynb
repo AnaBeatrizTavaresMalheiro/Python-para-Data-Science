{
 "cells": [
  {
   "cell_type": "markdown",
   "id": "a06d1022",
   "metadata": {},
   "source": [
    "# Exercício 1"
   ]
  },
  {
   "cell_type": "markdown",
   "id": "7d9b0b38",
   "metadata": {},
   "source": [
    "## Cria uma função que:\n",
    "\n",
    "### - Receba uma lista como argumento;\n",
    "### - Retorna uma lista apenas com os valores pares da lista original;"
   ]
  },
  {
   "cell_type": "code",
   "execution_count": 41,
   "id": "39ff33fd",
   "metadata": {},
   "outputs": [
    {
     "name": "stdout",
     "output_type": "stream",
     "text": [
      "[2, 4, 6, 8, 10]\n"
     ]
    }
   ],
   "source": [
    "def percorrerLista(lista):\n",
    "    lista_pares = []\n",
    "    for i in lista:\n",
    "        \n",
    "        if(i%2 == 0):\n",
    "            lista_pares.append(i)\n",
    "        \n",
    "        else:\n",
    "            continue\n",
    "    return lista_pares\n",
    "    \n",
    "def main():\n",
    "    lista = [1,2,3,4,5,6,7,8,9,10]\n",
    "    \n",
    "    print(percorrerLista(lista))\n",
    "    \n",
    "main()\n",
    "    "
   ]
  },
  {
   "cell_type": "markdown",
   "id": "144d5a85",
   "metadata": {},
   "source": [
    "# Exercício 2"
   ]
  },
  {
   "cell_type": "markdown",
   "id": "1d8b9c3e",
   "metadata": {},
   "source": [
    "## Crie uma função que:\n",
    "\n",
    "### - Receba 4 notas de um aluno;\n",
    "### - Calcule a média;\n",
    "### - Retorne uma mensagem com a média final."
   ]
  },
  {
   "cell_type": "code",
   "execution_count": 42,
   "id": "8c477591",
   "metadata": {},
   "outputs": [
    {
     "name": "stdout",
     "output_type": "stream",
     "text": [
      "Digite a nota 1:2\n",
      "Digite a nota 2:2\n",
      "Digite a nota 3:2\n",
      "Digite a nota 4:2\n",
      "Sua Média é :2.0\n"
     ]
    }
   ],
   "source": [
    "notas = 0\n",
    "media_final = 0\n",
    " \n",
    "def calcularMedia(notas,media_final):\n",
    "    \n",
    "    media_final = notas/4 \n",
    "    return media_final \n",
    "\n",
    "def capturarNotas(notas):\n",
    "    for i in range(1,5):\n",
    "        notas += float(input(f'Digite a nota {i}:'))\n",
    "    \n",
    "    return notas\n",
    "    \n",
    "def main(notas,media_final):\n",
    "    \n",
    "        \n",
    "    print(f'Sua Média é :{calcularMedia(capturarNotas(notas),media_final)}')\n",
    "    \n",
    "main(notas,media_final)"
   ]
  },
  {
   "cell_type": "markdown",
   "id": "fd338c3a",
   "metadata": {},
   "source": [
    "# Exercício 3"
   ]
  },
  {
   "cell_type": "markdown",
   "id": "eb714736",
   "metadata": {},
   "source": [
    "## Crie uma função que:\n",
    "\n",
    "### - Receba os 3 lados de um triângulo;\n",
    "### - Classifique o tipo de triângulo sendo: Equilátero, Isóceles ou Escaleno.\n",
    "\n"
   ]
  },
  {
   "cell_type": "code",
   "execution_count": 9,
   "id": "180266c3",
   "metadata": {},
   "outputs": [
    {
     "name": "stdout",
     "output_type": "stream",
     "text": [
      "Digite o valor de L1:5\n",
      "Digite o valor de L2:5\n",
      "Digite o valor de L3:5\n",
      "Triângulo Equilátero\n"
     ]
    }
   ],
   "source": [
    "def capturar_lados(L):\n",
    "    for i in range (1,4):\n",
    "        L.append(int(input(f'Digite o valor de L{i}:')))\n",
    "\n",
    "def classificar_triangulo(L):\n",
    "    \n",
    "    if (L[0] + L[1] >L[2]) and (L[0] + L[2] >L[1]) and (L[1] + L[2] L[0]):\n",
    "        if (L[0]== L[1]) and (L[0] == L[2]) and (L[1] == L[2]) :\n",
    "            print(\"Triângulo Equilátero\")\n",
    "        elif(L[0]== L[1]) or (L[0] == L[2]) or (L[1] == L[2]):\n",
    "            print(\"Triângulo Isósceles\")\n",
    "        else :\n",
    "            print(\"Triângulo Escaleno\")\n",
    "    else:\n",
    "        print(\"Não é um triângulo :(\")\n",
    "    \n",
    "def main():\n",
    "    L = []\n",
    "    capturar_lados(L)\n",
    "    classificar_triangulo (L)\n",
    "    \n",
    "main()"
   ]
  },
  {
   "cell_type": "markdown",
   "id": "cb6f884d",
   "metadata": {},
   "source": [
    " ###Exercício 4"
   ]
  },
  {
   "cell_type": "markdown",
   "id": "434a5e97",
   "metadata": {},
   "source": [
    "## Crie uma função que:\n",
    "\n",
    "### - Receba itens de um estoque, com suas quantidades * Similar à estrutura do exercício do banco;\n",
    "### - Retorne uma mensagem ao final com os itens e suas quantidades;"
   ]
  },
  {
   "cell_type": "code",
   "execution_count": 13,
   "id": "869821f7",
   "metadata": {},
   "outputs": [
    {
     "name": "stdout",
     "output_type": "stream",
     "text": [
      "Informe o nome do produto (ou enter para sair):5\n",
      "Digite a quantidade do produto \"5\": 5\n",
      "Informe o nome do produto (ou enter para sair):5\n",
      "Digite a quantidade do produto \"5\": 5\n",
      "Informe o nome do produto (ou enter para sair):\n",
      "5: 5 unidades.\n",
      "\n",
      "Temos um total de 5 produtos no estoque\n"
     ]
    }
   ],
   "source": [
    "estoque = {}\n",
    "\n",
    "while True:\n",
    "    produto = input('Informe o nome do produto (ou enter para sair):')\n",
    "    if produto:\n",
    "        quantidade = int(input(f'Digite a quantidade do produto \"{produto}\": '))\n",
    "        estoque[produto] = quantidade\n",
    "        continue\n",
    "    else:\n",
    "        break;\n",
    "        \n",
    "if len(estoque) > 0:\n",
    "    for produto,quantidade in estoque.items():\n",
    "        print(f'{produto}: {quantidade} unidades.')\n",
    "else:\n",
    "    print(\"O estoque está vazio\")\n",
    "        \n",
    "print(f'\\nTemos um total de {sum(estoque.values())} produtos no estoque')"
   ]
  }
 ],
 "metadata": {
  "kernelspec": {
   "display_name": "Python 3 (ipykernel)",
   "language": "python",
   "name": "python3"
  },
  "language_info": {
   "codemirror_mode": {
    "name": "ipython",
    "version": 3
   },
   "file_extension": ".py",
   "mimetype": "text/x-python",
   "name": "python",
   "nbconvert_exporter": "python",
   "pygments_lexer": "ipython3",
   "version": "3.11.4"
  }
 },
 "nbformat": 4,
 "nbformat_minor": 5
}
