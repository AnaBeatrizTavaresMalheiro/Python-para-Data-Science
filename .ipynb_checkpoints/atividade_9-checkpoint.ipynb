{
 "cells": [
  {
   "cell_type": "markdown",
   "id": "f9bb2fed-35cd-4697-99cf-3b832a4ad8aa",
   "metadata": {},
   "source": [
    "# Exercício 1"
   ]
  },
  {
   "cell_type": "markdown",
   "id": "9c78b40e-0640-461b-9b9b-4bbc23d5a379",
   "metadata": {},
   "source": [
    "## Crie uma lista de números inteiros. Utilize map e uma expressão lambda para dobrar cada número da lista. Em seguida, utilize filter e outra expressão lambda para filtrar apenas os números ímpares do resultado."
   ]
  },
  {
   "cell_type": "code",
   "execution_count": 62,
   "id": "77de1116-f8bb-452f-b635-1d54e648132e",
   "metadata": {},
   "outputs": [
    {
     "data": {
      "text/plain": [
       "[2, 6, 10, 14, 18]"
      ]
     },
     "execution_count": 62,
     "metadata": {},
     "output_type": "execute_result"
    }
   ],
   "source": [
    "lista = [1,2,3,4,5,6,7,8,9,10]\n",
    "\n",
    "lista = list(map(lambda x: (x*2),filter(lambda x: x%2 != 0,lista)))\n",
    "\n",
    "lista"
   ]
  },
  {
   "cell_type": "markdown",
   "id": "2ca82905-aa74-4d19-9831-2fa2f78ee13a",
   "metadata": {},
   "source": [
    "# Exercício 2"
   ]
  },
  {
   "cell_type": "markdown",
   "id": "f1b6ba2d-96f8-4f12-bea9-9b8fd0b7d565",
   "metadata": {},
   "source": [
    "## Crie uma lista de palavras. Utilize map e uma expressão lambda para converter todas as palavras para maiúsculas. Em seguida, utilize filter e outra expressão lambda para filtrar as palavras com mais de 5 caracteres."
   ]
  },
  {
   "cell_type": "code",
   "execution_count": 22,
   "id": "a8dbd40b-7c20-41bf-97f1-b485b1d176b3",
   "metadata": {},
   "outputs": [
    {
     "data": {
      "text/plain": [
       "['banana']"
      ]
     },
     "execution_count": 22,
     "metadata": {},
     "output_type": "execute_result"
    }
   ],
   "source": [
    "lista_palavras = [\"BANANA\", \"MAÇA\",\"PÊRA\"]\n",
    "\n",
    "lista_palavras =list(filter(lambda x : len(x) >5,map(lambda x : x.lower(),lista_palavras)))\n",
    "\n",
    "lista_palavras"
   ]
  },
  {
   "cell_type": "markdown",
   "id": "b301f5b7-8e4e-4f5b-bf50-4122718b21e9",
   "metadata": {},
   "source": [
    "# Exercício 3"
   ]
  },
  {
   "cell_type": "markdown",
   "id": "4482cdb1-cc51-4d80-8140-a95f700f5cd7",
   "metadata": {},
   "source": [
    "## Crie uma lista de números inteiros positivos e negativos. Utilize filter e map para calcular o quadrado apenas dos números positivos."
   ]
  },
  {
   "cell_type": "code",
   "execution_count": 29,
   "id": "529aa6fe-9487-41a2-8377-68af511bfde6",
   "metadata": {},
   "outputs": [
    {
     "data": {
      "text/plain": [
       "[1, 4, 9, 16, 25]"
      ]
     },
     "execution_count": 29,
     "metadata": {},
     "output_type": "execute_result"
    }
   ],
   "source": [
    "lista_num_inteiros = [1,2,3,4,5,-5,-4,-3,-2,-1]\n",
    "\n",
    "lista_num_quadrado = list(map(lambda x : x**2,filter(lambda x : x > 0,lista_num_inteiros)))\n",
    "\n",
    "lista_num_quadrado"
   ]
  },
  {
   "cell_type": "markdown",
   "id": "253fe0aa-fc15-4e7a-8f3a-39492ecaf46a",
   "metadata": {},
   "source": [
    "# Exercício 4"
   ]
  },
  {
   "cell_type": "markdown",
   "id": "b788b247-0067-4ebe-83f6-32b2287cdf7c",
   "metadata": {},
   "source": [
    "## Crie uma lista de nomes. Utilize map e uma expressão lambda para criar uma nova lista contendo apenas o primeiro caractere de cada nome."
   ]
  },
  {
   "cell_type": "code",
   "execution_count": 33,
   "id": "4ebe1f47-b87b-4a7d-9ef9-7cb6783b568a",
   "metadata": {},
   "outputs": [
    {
     "data": {
      "text/plain": [
       "['A', 'J', 'M', 'R']"
      ]
     },
     "execution_count": 33,
     "metadata": {},
     "output_type": "execute_result"
    }
   ],
   "source": [
    "lista_nomes = [\"Ana\",\"João\",\"Maria\",\"Renato\"]\n",
    "\n",
    "nova_lista = list(map(lambda x : x[0],lista_nomes))\n",
    "\n",
    "nova_lista"
   ]
  },
  {
   "cell_type": "markdown",
   "id": "6297ef3e-299c-4bd9-bb99-f37ca3cd5a6c",
   "metadata": {},
   "source": [
    "# Exercício 5"
   ]
  },
  {
   "cell_type": "markdown",
   "id": "57a8179d-62c1-454f-bfd6-187d9ce975c4",
   "metadata": {},
   "source": [
    "## Crie uma lista de dicionários, onde cada dicionário representa um funcionário com os atributos \"nome\" e \"salario\". Utilize map e uma expressão lambda para aumentar o salário de cada funcionário em 10%."
   ]
  },
  {
   "cell_type": "code",
   "execution_count": 56,
   "id": "ce549c1d-f6cc-4714-bcb3-0f8aeb64310b",
   "metadata": {},
   "outputs": [],
   "source": [
    "colaboradores = [\n",
    "    {'nome': 'Alice', 'salario': 1500},\n",
    "    {'nome': 'Bia', 'salario': 2000},\n",
    "    {'nome': 'Pedro', 'salario': 4000},\n",
    "]"
   ]
  },
  {
   "cell_type": "code",
   "execution_count": 60,
   "id": "adc8fe1f-7f61-4396-8fb3-180e404fe89e",
   "metadata": {},
   "outputs": [],
   "source": [
    "ajustar_salario = lambda x: x*1.1\n",
    "\n",
    "for colaborador in colaboradores:\n",
    "    colaborador['salario'] = round(ajustar_salario(colaborador['salario']),3)"
   ]
  },
  {
   "cell_type": "code",
   "execution_count": 59,
   "id": "c1ac432f",
   "metadata": {},
   "outputs": [
    {
     "data": {
      "text/plain": [
       "[{'nome': 'Alice', 'salario': 1650.0},\n",
       " {'nome': 'Bia', 'salario': 2200.0},\n",
       " {'nome': 'Pedro', 'salario': 4400.0}]"
      ]
     },
     "execution_count": 59,
     "metadata": {},
     "output_type": "execute_result"
    }
   ],
   "source": [
    "colaboradores"
   ]
  }
 ],
 "metadata": {
  "kernelspec": {
   "display_name": "Python 3 (ipykernel)",
   "language": "python",
   "name": "python3"
  },
  "language_info": {
   "codemirror_mode": {
    "name": "ipython",
    "version": 3
   },
   "file_extension": ".py",
   "mimetype": "text/x-python",
   "name": "python",
   "nbconvert_exporter": "python",
   "pygments_lexer": "ipython3",
   "version": "3.11.4"
  }
 },
 "nbformat": 4,
 "nbformat_minor": 5
}
