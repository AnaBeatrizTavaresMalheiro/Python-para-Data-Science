{
 "cells": [
  {
   "cell_type": "code",
   "execution_count": 2,
   "id": "1173f3b5",
   "metadata": {},
   "outputs": [],
   "source": [
    "minha_lista3 = list(range(1,101))"
   ]
  },
  {
   "cell_type": "code",
   "execution_count": 3,
   "id": "cb8c7e7e",
   "metadata": {},
   "outputs": [
    {
     "data": {
      "text/plain": [
       "[1,\n",
       " 2,\n",
       " 3,\n",
       " 4,\n",
       " 5,\n",
       " 6,\n",
       " 7,\n",
       " 8,\n",
       " 9,\n",
       " 10,\n",
       " 11,\n",
       " 12,\n",
       " 13,\n",
       " 14,\n",
       " 15,\n",
       " 16,\n",
       " 17,\n",
       " 18,\n",
       " 19,\n",
       " 20,\n",
       " 21,\n",
       " 22,\n",
       " 23,\n",
       " 24,\n",
       " 25,\n",
       " 26,\n",
       " 27,\n",
       " 28,\n",
       " 29,\n",
       " 30,\n",
       " 31,\n",
       " 32,\n",
       " 33,\n",
       " 34,\n",
       " 35,\n",
       " 36,\n",
       " 37,\n",
       " 38,\n",
       " 39,\n",
       " 40,\n",
       " 41,\n",
       " 42,\n",
       " 43,\n",
       " 44,\n",
       " 45,\n",
       " 46,\n",
       " 47,\n",
       " 48,\n",
       " 49,\n",
       " 50,\n",
       " 51,\n",
       " 52,\n",
       " 53,\n",
       " 54,\n",
       " 55,\n",
       " 56,\n",
       " 57,\n",
       " 58,\n",
       " 59,\n",
       " 60,\n",
       " 61,\n",
       " 62,\n",
       " 63,\n",
       " 64,\n",
       " 65,\n",
       " 66,\n",
       " 67,\n",
       " 68,\n",
       " 69,\n",
       " 70,\n",
       " 71,\n",
       " 72,\n",
       " 73,\n",
       " 74,\n",
       " 75,\n",
       " 76,\n",
       " 77,\n",
       " 78,\n",
       " 79,\n",
       " 80,\n",
       " 81,\n",
       " 82,\n",
       " 83,\n",
       " 84,\n",
       " 85,\n",
       " 86,\n",
       " 87,\n",
       " 88,\n",
       " 89,\n",
       " 90,\n",
       " 91,\n",
       " 92,\n",
       " 93,\n",
       " 94,\n",
       " 95,\n",
       " 96,\n",
       " 97,\n",
       " 98,\n",
       " 99,\n",
       " 100]"
      ]
     },
     "execution_count": 3,
     "metadata": {},
     "output_type": "execute_result"
    }
   ],
   "source": [
    "minha_lista3"
   ]
  },
  {
   "cell_type": "code",
   "execution_count": 9,
   "id": "36526685",
   "metadata": {},
   "outputs": [],
   "source": [
    "minha_lista = [1,2,3,4,5,6,7,8,9,10]"
   ]
  },
  {
   "cell_type": "code",
   "execution_count": 10,
   "id": "3dea7161",
   "metadata": {},
   "outputs": [
    {
     "data": {
      "text/plain": [
       "3"
      ]
     },
     "execution_count": 10,
     "metadata": {},
     "output_type": "execute_result"
    }
   ],
   "source": [
    "minha_lista[2]"
   ]
  },
  {
   "cell_type": "code",
   "execution_count": 11,
   "id": "4e856831",
   "metadata": {},
   "outputs": [
    {
     "data": {
      "text/plain": [
       "[1, 2, 3, 4, 5]"
      ]
     },
     "execution_count": 11,
     "metadata": {},
     "output_type": "execute_result"
    }
   ],
   "source": [
    "minha_lista[0:5]"
   ]
  },
  {
   "cell_type": "code",
   "execution_count": 12,
   "id": "cf19d8d6",
   "metadata": {},
   "outputs": [
    {
     "data": {
      "text/plain": [
       "[3, 5, 7, 9]"
      ]
     },
     "execution_count": 12,
     "metadata": {},
     "output_type": "execute_result"
    }
   ],
   "source": [
    "minha_lista[-8:-1:2]"
   ]
  },
  {
   "cell_type": "code",
   "execution_count": 14,
   "id": "27f928df",
   "metadata": {},
   "outputs": [
    {
     "data": {
      "text/plain": [
       "[10, 9, 8, 7, 6, 5, 4, 3, 2, 1]"
      ]
     },
     "execution_count": 14,
     "metadata": {},
     "output_type": "execute_result"
    }
   ],
   "source": [
    "minha_lista[::-1]"
   ]
  },
  {
   "cell_type": "code",
   "execution_count": null,
   "id": "d9fadf9f",
   "metadata": {},
   "outputs": [],
   "source": []
  },
  {
   "cell_type": "code",
   "execution_count": 86,
   "id": "3c063925",
   "metadata": {},
   "outputs": [],
   "source": [
    "frutas = ['mamão','maçã','uva','kiwi','laranja']"
   ]
  },
  {
   "cell_type": "code",
   "execution_count": 87,
   "id": "9dcccfaa",
   "metadata": {},
   "outputs": [],
   "source": [
    "frutas.append('melancia')"
   ]
  },
  {
   "cell_type": "code",
   "execution_count": 88,
   "id": "a63e70e3",
   "metadata": {},
   "outputs": [
    {
     "data": {
      "text/plain": [
       "['mamão', 'maçã', 'uva', 'kiwi', 'laranja', 'melancia']"
      ]
     },
     "execution_count": 88,
     "metadata": {},
     "output_type": "execute_result"
    }
   ],
   "source": [
    "frutas"
   ]
  },
  {
   "cell_type": "code",
   "execution_count": 89,
   "id": "92f1db2d",
   "metadata": {},
   "outputs": [],
   "source": [
    "frutas.insert(2,'banana')"
   ]
  },
  {
   "cell_type": "code",
   "execution_count": 90,
   "id": "a0f63307",
   "metadata": {},
   "outputs": [
    {
     "data": {
      "text/plain": [
       "['mamão', 'maçã', 'banana', 'uva', 'kiwi', 'laranja', 'melancia']"
      ]
     },
     "execution_count": 90,
     "metadata": {},
     "output_type": "execute_result"
    }
   ],
   "source": [
    "frutas"
   ]
  },
  {
   "cell_type": "code",
   "execution_count": 91,
   "id": "52ee1f39",
   "metadata": {},
   "outputs": [
    {
     "data": {
      "text/plain": [
       "['banana', 'kiwi', 'laranja', 'mamão', 'maçã', 'melancia', 'uva']"
      ]
     },
     "execution_count": 91,
     "metadata": {},
     "output_type": "execute_result"
    }
   ],
   "source": [
    "sorted(frutas)"
   ]
  },
  {
   "cell_type": "code",
   "execution_count": 92,
   "id": "1a454047",
   "metadata": {},
   "outputs": [
    {
     "data": {
      "text/plain": [
       "['mamão', 'maçã', 'banana', 'uva', 'kiwi', 'laranja', 'melancia']"
      ]
     },
     "execution_count": 92,
     "metadata": {},
     "output_type": "execute_result"
    }
   ],
   "source": [
    "frutas"
   ]
  },
  {
   "cell_type": "code",
   "execution_count": 93,
   "id": "ddbb630e",
   "metadata": {},
   "outputs": [
    {
     "data": {
      "text/plain": [
       "['melancia', 'laranja', 'kiwi', 'uva', 'banana', 'maçã', 'mamão']"
      ]
     },
     "execution_count": 93,
     "metadata": {},
     "output_type": "execute_result"
    }
   ],
   "source": [
    "frutas[::-1]"
   ]
  },
  {
   "cell_type": "code",
   "execution_count": 94,
   "id": "859d9696",
   "metadata": {},
   "outputs": [],
   "source": [
    "ultima_fruta = frutas.pop()"
   ]
  },
  {
   "cell_type": "code",
   "execution_count": 95,
   "id": "04706096",
   "metadata": {},
   "outputs": [
    {
     "data": {
      "text/plain": [
       "'melancia'"
      ]
     },
     "execution_count": 95,
     "metadata": {},
     "output_type": "execute_result"
    }
   ],
   "source": [
    "ultima_fruta"
   ]
  },
  {
   "cell_type": "code",
   "execution_count": 96,
   "id": "f3ee0eb4",
   "metadata": {},
   "outputs": [],
   "source": [
    "frutas.remove(\"kiwi\")"
   ]
  },
  {
   "cell_type": "code",
   "execution_count": 97,
   "id": "e750e9f2",
   "metadata": {},
   "outputs": [
    {
     "data": {
      "text/plain": [
       "['mamão', 'maçã', 'banana', 'uva', 'laranja']"
      ]
     },
     "execution_count": 97,
     "metadata": {},
     "output_type": "execute_result"
    }
   ],
   "source": [
    "frutas"
   ]
  },
  {
   "cell_type": "code",
   "execution_count": 98,
   "id": "e1d44ec3",
   "metadata": {},
   "outputs": [],
   "source": [
    "del frutas[0]"
   ]
  },
  {
   "cell_type": "code",
   "execution_count": 85,
   "id": "98e7612e",
   "metadata": {},
   "outputs": [
    {
     "data": {
      "text/plain": [
       "['mamão', 'banana', 'uva', 'laranja']"
      ]
     },
     "execution_count": 85,
     "metadata": {},
     "output_type": "execute_result"
    }
   ],
   "source": [
    "frutas"
   ]
  },
  {
   "cell_type": "code",
   "execution_count": 100,
   "id": "6af83d73",
   "metadata": {},
   "outputs": [
    {
     "data": {
      "text/plain": [
       "2"
      ]
     },
     "execution_count": 100,
     "metadata": {},
     "output_type": "execute_result"
    }
   ],
   "source": [
    "frutas.index('uva')"
   ]
  },
  {
   "cell_type": "code",
   "execution_count": 102,
   "id": "3a1b92e0",
   "metadata": {},
   "outputs": [],
   "source": [
    "frutas.extend(['mexirica','pêra','tomate'])"
   ]
  },
  {
   "cell_type": "code",
   "execution_count": 103,
   "id": "77d9bf5d",
   "metadata": {},
   "outputs": [
    {
     "data": {
      "text/plain": [
       "['maçã', 'banana', 'uva', 'laranja', 'mexirica', 'pêra', 'tomate']"
      ]
     },
     "execution_count": 103,
     "metadata": {},
     "output_type": "execute_result"
    }
   ],
   "source": [
    "frutas"
   ]
  },
  {
   "cell_type": "code",
   "execution_count": 105,
   "id": "5484a459",
   "metadata": {},
   "outputs": [
    {
     "name": "stdout",
     "output_type": "stream",
     "text": [
      "maçã\n",
      "banana\n",
      "uva\n",
      "laranja\n",
      "mexirica\n",
      "pêra\n",
      "tomate\n"
     ]
    }
   ],
   "source": [
    "for i in frutas:\n",
    "    print(i)"
   ]
  },
  {
   "cell_type": "code",
   "execution_count": 106,
   "id": "4b237fe2",
   "metadata": {},
   "outputs": [
    {
     "data": {
      "text/plain": [
       "False"
      ]
     },
     "execution_count": 106,
     "metadata": {},
     "output_type": "execute_result"
    }
   ],
   "source": [
    "bool(\"\")"
   ]
  },
  {
   "cell_type": "code",
   "execution_count": 126,
   "id": "49f6a69a",
   "metadata": {},
   "outputs": [
    {
     "name": "stdout",
     "output_type": "stream",
     "text": [
      "Digite os números:1,2,3,4,5,6,7\n"
     ]
    }
   ],
   "source": [
    "# for i in range(0,5):\n",
    "numeros = input ('Digite os números:').split(',')"
   ]
  },
  {
   "cell_type": "code",
   "execution_count": 129,
   "id": "62c3a0c2",
   "metadata": {},
   "outputs": [
    {
     "data": {
      "text/plain": [
       "['1', '2', '3', '4', '5', '6', '7']"
      ]
     },
     "execution_count": 129,
     "metadata": {},
     "output_type": "execute_result"
    }
   ],
   "source": [
    "numeros"
   ]
  },
  {
   "cell_type": "code",
   "execution_count": 131,
   "id": "19d93a8c",
   "metadata": {},
   "outputs": [],
   "source": [
    "n = [coisa for coisa in numeros if int(coisa) % 2 ==0] "
   ]
  },
  {
   "cell_type": "code",
   "execution_count": 133,
   "id": "98d831d2",
   "metadata": {},
   "outputs": [
    {
     "data": {
      "text/plain": [
       "['2', '4', '6']"
      ]
     },
     "execution_count": 133,
     "metadata": {},
     "output_type": "execute_result"
    }
   ],
   "source": [
    "n"
   ]
  },
  {
   "cell_type": "code",
   "execution_count": 138,
   "id": "e4caba9c",
   "metadata": {},
   "outputs": [],
   "source": [
    "salarios = [1000,1500,1700,2000,2200]"
   ]
  },
  {
   "cell_type": "code",
   "execution_count": 139,
   "id": "fa8e595a",
   "metadata": {},
   "outputs": [
    {
     "data": {
      "text/plain": [
       "[1000, 1500, 1700, 2000, 2200]"
      ]
     },
     "execution_count": 139,
     "metadata": {},
     "output_type": "execute_result"
    }
   ],
   "source": [
    "salarios"
   ]
  },
  {
   "cell_type": "code",
   "execution_count": 140,
   "id": "f8ba5d40",
   "metadata": {},
   "outputs": [],
   "source": [
    "novos_salarios = [salario *0.1 if salario >1500 else salario * 0.2 for salario in salarios]"
   ]
  },
  {
   "cell_type": "code",
   "execution_count": null,
   "id": "c923fec0",
   "metadata": {},
   "outputs": [],
   "source": []
  }
 ],
 "metadata": {
  "kernelspec": {
   "display_name": "Python 3 (ipykernel)",
   "language": "python",
   "name": "python3"
  },
  "language_info": {
   "codemirror_mode": {
    "name": "ipython",
    "version": 3
   },
   "file_extension": ".py",
   "mimetype": "text/x-python",
   "name": "python",
   "nbconvert_exporter": "python",
   "pygments_lexer": "ipython3",
   "version": "3.11.4"
  }
 },
 "nbformat": 4,
 "nbformat_minor": 5
}
