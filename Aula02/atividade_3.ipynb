{
 "cells": [
  {
   "cell_type": "markdown",
   "id": "0b186b30",
   "metadata": {},
   "source": [
    "# Exercício 1"
   ]
  },
  {
   "cell_type": "markdown",
   "id": "6525df42",
   "metadata": {},
   "source": [
    "### Crie um programa que imprima uma mensagem com seu nome, idade e altura, uando:"
   ]
  },
  {
   "cell_type": "markdown",
   "id": "8d3fd25c",
   "metadata": {},
   "source": [
    "#### - Concatenação de Strings"
   ]
  },
  {
   "cell_type": "code",
   "execution_count": 3,
   "id": "fece169b",
   "metadata": {},
   "outputs": [],
   "source": [
    "nome = \"Ana Beatriz Tavares Malheiro\"\n",
    "idade = 20\n",
    "altura= \"1.65\""
   ]
  },
  {
   "cell_type": "markdown",
   "id": "67a6e9ae",
   "metadata": {},
   "source": [
    "#### - f-String"
   ]
  },
  {
   "cell_type": "code",
   "execution_count": 6,
   "id": "0fde0f69",
   "metadata": {},
   "outputs": [
    {
     "name": "stdout",
     "output_type": "stream",
     "text": [
      "Olá, meu nome é Ana Beatriz Tavares Malheiro tenho 20 anos de idade e minha altura é 1.65\n"
     ]
    }
   ],
   "source": [
    "print (\"Olá, meu nome é \" + nome + \" tenho \"+ str(idade) + \" anos de idade e minha altura é \" + altura)"
   ]
  },
  {
   "cell_type": "markdown",
   "id": "05c15f55-cd6e-4bac-98f2-e80e4a102dca",
   "metadata": {},
   "source": [
    "# Exercicio 2"
   ]
  },
  {
   "cell_type": "markdown",
   "id": "2e9f178f",
   "metadata": {},
   "source": [
    "### Crie um programa que receba os dados cadastrais de um cliente, sendo eles:\n",
    "\n",
    "#### - Nome:\n",
    "#### - Idade:\n",
    "#### - Cidade:\n",
    "#### - Estado:\n",
    "\n",
    "### Ao final, printe uma mensagem de finalização do cadastro do cliente, usando os dados do mesmo."
   ]
  },
  {
   "cell_type": "markdown",
   "id": "f5ecc678",
   "metadata": {},
   "source": [
    "#### - Nome:"
   ]
  },
  {
   "cell_type": "code",
   "execution_count": 9,
   "id": "b8784bbc",
   "metadata": {},
   "outputs": [
    {
     "name": "stdout",
     "output_type": "stream",
     "text": [
      "Digite o nome: Ana\n"
     ]
    }
   ],
   "source": [
    "nome = input(\"Digite o nome: \")"
   ]
  },
  {
   "cell_type": "markdown",
   "id": "11069cce",
   "metadata": {},
   "source": [
    "#### - Idade:"
   ]
  },
  {
   "cell_type": "code",
   "execution_count": 11,
   "id": "85d58896",
   "metadata": {},
   "outputs": [
    {
     "name": "stdout",
     "output_type": "stream",
     "text": [
      "Digite a idade: 20\n"
     ]
    }
   ],
   "source": [
    "idade = int(input(\"Digite a idade: \"))"
   ]
  },
  {
   "cell_type": "markdown",
   "id": "99307660",
   "metadata": {},
   "source": [
    "#### - Cidade:"
   ]
  },
  {
   "cell_type": "code",
   "execution_count": 13,
   "id": "166812ce",
   "metadata": {},
   "outputs": [
    {
     "name": "stdout",
     "output_type": "stream",
     "text": [
      "Digite sua cidade: SBC\n"
     ]
    }
   ],
   "source": [
    "cidade = input(\"Digite sua cidade: \")"
   ]
  },
  {
   "cell_type": "markdown",
   "id": "a415762c",
   "metadata": {},
   "source": [
    "#### - Estado:"
   ]
  },
  {
   "cell_type": "code",
   "execution_count": 14,
   "id": "3d46c42d",
   "metadata": {},
   "outputs": [
    {
     "name": "stdout",
     "output_type": "stream",
     "text": [
      "Digite o estado: SP\n"
     ]
    }
   ],
   "source": [
    "estado = input(\"Digite o estado: \")"
   ]
  },
  {
   "cell_type": "markdown",
   "id": "6198a0b5-9229-4543-abf8-cacc8a4df7c1",
   "metadata": {},
   "source": [
    "### Mensagem de finalização de cadastro: "
   ]
  },
  {
   "cell_type": "code",
   "execution_count": 16,
   "id": "e985b6c7-12b9-41c6-99e9-614bd62a4a23",
   "metadata": {},
   "outputs": [
    {
     "name": "stdout",
     "output_type": "stream",
     "text": [
      "Olá Ana sua idade é 20 mora em SBC no estado de(o) SP\n"
     ]
    }
   ],
   "source": [
    "print(\"Olá \"+ nome +\" sua idade é \"+ str(idade) +\" mora em \" + cidade + \" no estado de(o) \"+ estado)"
   ]
  },
  {
   "cell_type": "code",
   "execution_count": null,
   "id": "60ae152f",
   "metadata": {},
   "outputs": [],
   "source": []
  }
 ],
 "metadata": {
  "kernelspec": {
   "display_name": "Python 3 (ipykernel)",
   "language": "python",
   "name": "python3"
  },
  "language_info": {
   "codemirror_mode": {
    "name": "ipython",
    "version": 3
   },
   "file_extension": ".py",
   "mimetype": "text/x-python",
   "name": "python",
   "nbconvert_exporter": "python",
   "pygments_lexer": "ipython3",
   "version": "3.11.4"
  }
 },
 "nbformat": 4,
 "nbformat_minor": 5
}
