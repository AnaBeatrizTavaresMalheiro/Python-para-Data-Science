{
 "cells": [
  {
   "cell_type": "markdown",
   "metadata": {},
   "source": [
    "## 06 - JSON file manipulation"
   ]
  },
  {
   "cell_type": "code",
   "execution_count": 80,
   "metadata": {},
   "outputs": [
    {
     "name": "stdout",
     "output_type": "stream",
     "text": [
      "{'Ana Beatriz': {'Sobrenome': 'Tavares Malheiro', 'Idade': '20', 'Profissão': 'Estagiária', 'Empresa': 'Scania'}}\n"
     ]
    }
   ],
   "source": [
    "import json\n",
    "data_register ={\n",
    "    \"Mia\":{\n",
    "        \"Lastname\":\"Oliveira\",\n",
    "        \"Age\":\"20\",\n",
    "        \"Position\":\"Intern\",\n",
    "        \"Company\":\"ABC\"\n",
    "    }\n",
    "}\n",
    "\n",
    "with open ('dados.json', 'w') as my_file:\n",
    "           json.dump(data_register,my_file)\n",
    "        \n",
    "with open ('dados.json','r') as file:\n",
    "        print(json.load(file))"
   ]
  },
  {
   "cell_type": "code",
   "execution_count": 81,
   "metadata": {},
   "outputs": [
    {
     "name": "stdout",
     "output_type": "stream",
     "text": [
      "<Response [200]>\n",
      "{'USDBRL': {'code': 'USD', 'codein': 'BRL', 'name': 'Dólar Americano/Real Brasileiro', 'high': '5.5199', 'low': '5.4513', 'varBid': '-0.0204', 'pctChange': '-0.37', 'bid': '5.4555', 'ask': '5.4565', 'timestamp': '1728086398', 'create_date': '2024-10-04 20:59:58'}, 'EURBRL': {'code': 'EUR', 'codein': 'BRL', 'name': 'Euro/Real Brasileiro', 'high': '6.0609', 'low': '5.9756', 'varBid': '-0.0495', 'pctChange': '-0.82', 'bid': '5.9835', 'ask': '5.9915', 'timestamp': '1728075579', 'create_date': '2024-10-04 17:59:39'}, 'BTCBRL': {'code': 'BTC', 'codein': 'BRL', 'name': 'Bitcoin/Real Brasileiro', 'high': '342386', 'low': '332900', 'varBid': '130', 'pctChange': '0.04', 'bid': '342130', 'ask': '342209', 'timestamp': '1728133405', 'create_date': '2024-10-05 10:03:25'}}\n",
      "{'code': 'USD', 'codein': 'BRL', 'name': 'Dólar Americano/Real Brasileiro', 'high': '5.5199', 'low': '5.4513', 'varBid': '-0.0204', 'pctChange': '-0.37', 'bid': '5.4555', 'ask': '5.4565', 'timestamp': '1728086398', 'create_date': '2024-10-04 20:59:58'}\n",
      "5.5199\n"
     ]
    }
   ],
   "source": [
    "import requests\n",
    "\n",
    "request = requests.get('https://economia.awesomeapi.com.br/last/USD-BRL,EUR-BRL,BTC-BRL')\n",
    "print(request)\n",
    "print(request.json())\n",
    "\n",
    "dictionary = request.json()\n",
    "\n",
    "print(dictionary['USDBRL'])\n",
    "print(dictionary['USDBRL']['high'])"
   ]
  }
 ],
 "metadata": {
  "kernelspec": {
   "display_name": "Python 3",
   "language": "python",
   "name": "python3"
  },
  "language_info": {
   "codemirror_mode": {
    "name": "ipython",
    "version": 3
   },
   "file_extension": ".py",
   "mimetype": "text/x-python",
   "name": "python",
   "nbconvert_exporter": "python",
   "pygments_lexer": "ipython3",
   "version": "3.11.5"
  }
 },
 "nbformat": 4,
 "nbformat_minor": 2
}
